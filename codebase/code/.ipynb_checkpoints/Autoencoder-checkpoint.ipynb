{
 "cells": [
  {
   "cell_type": "code",
   "execution_count": 1,
   "metadata": {},
   "outputs": [],
   "source": [
    "import torch\n",
    "import torch.nn as nn\n",
    "import torch.nn.functional as F\n",
    "\n",
    "import time\n",
    "import datetime\n",
    "import torch\n",
    "import os\n",
    "from tqdm import tqdm\n",
    "from torchvision import datasets, models, transforms\n",
    "\n",
    "import matplotlib.pyplot as plt\n",
    "\n",
    "device = torch.device(\"cuda:0\" if torch.cuda.is_available() else \"cpu\")\n",
    "\n",
    "import torch\n",
    "import torch.nn as nn\n",
    "import torch.optim as optim\n",
    "import numpy as np\n",
    "import torchvision\n",
    "from torchvision import datasets, models, transforms\n",
    "import matplotlib.pyplot as plt\n",
    "import time\n",
    "# You might not have tqdm, which gives you nice progress bars\n",
    "#!pip install tqdm\n",
    "import tqdm\n",
    "import os\n",
    "import copy\n",
    "import pandas as pd\n",
    "import PIL \n",
    "import time as t"
   ]
  },
  {
   "cell_type": "code",
   "execution_count": 2,
   "metadata": {},
   "outputs": [],
   "source": [
    "\"\"\" Evaluate ROC\n",
    "Returns:\n",
    "    auc, eer: Area under the curve, Equal Error Rate\n",
    "\"\"\"\n",
    "from __future__ import print_function\n",
    "\n",
    "import os\n",
    "from sklearn.metrics import roc_curve, auc, average_precision_score, f1_score\n",
    "from scipy.optimize import brentq\n",
    "from scipy.interpolate import interp1d\n",
    "import matplotlib.pyplot as plt\n",
    "\n",
    "class AverageMeter(object):\n",
    "    \"\"\"Computes and stores the average and current value\"\"\"\n",
    "    def __init__(self):\n",
    "        self.val = 0\n",
    "        self.avg = 0\n",
    "        self.sum = 0\n",
    "        self.count = 0\n",
    "\n",
    "    def reset(self):\n",
    "        self.val = 0\n",
    "        self.avg = 0\n",
    "        self.sum = 0\n",
    "        self.count = 0\n",
    "\n",
    "    def update(self, val, n=1):\n",
    "        self.val = val\n",
    "        self.sum += val * n\n",
    "        self.count += n\n",
    "        self.avg = self.sum / self.count"
   ]
  },
  {
   "cell_type": "markdown",
   "metadata": {},
   "source": [
    "## MODEL DEFINITION"
   ]
  },
  {
   "cell_type": "code",
   "execution_count": 3,
   "metadata": {},
   "outputs": [],
   "source": [
    "# Refer to https://github.com/milesial/Pytorch-UNet/blob/master/unet/unet_parts.py\n",
    "class DoubleConv(nn.Module):\n",
    "    \"\"\"(convolution => [BN] => ReLU) * 2\"\"\"\n",
    "\n",
    "    def __init__(self, in_channels, out_channels):\n",
    "        super().__init__()\n",
    "        self.double_conv = nn.Sequential(\n",
    "            nn.Conv2d(in_channels, out_channels, kernel_size=3, padding=1),\n",
    "            nn.BatchNorm2d(out_channels),\n",
    "            nn.ReLU(inplace=True),\n",
    "            nn.Conv2d(out_channels, out_channels, kernel_size=3, padding=1),\n",
    "            nn.BatchNorm2d(out_channels),\n",
    "            nn.ReLU(inplace=True)\n",
    "        )\n",
    "\n",
    "    def forward(self, x):\n",
    "        return self.double_conv(x)"
   ]
  },
  {
   "cell_type": "code",
   "execution_count": 4,
   "metadata": {},
   "outputs": [],
   "source": [
    "class Down(nn.Module):\n",
    "    \"\"\"Downscaling with maxpool then double conv\"\"\"\n",
    "\n",
    "    def __init__(self, in_channels, out_channels):\n",
    "        super().__init__()\n",
    "        self.maxpool_conv = nn.Sequential(\n",
    "            nn.MaxPool2d(kernel_size=(2, 2), stride=(2, 2)),\n",
    "            DoubleConv(in_channels, out_channels)\n",
    "        )\n",
    "\n",
    "    def forward(self, x):\n",
    "        return self.maxpool_conv(x)"
   ]
  },
  {
   "cell_type": "code",
   "execution_count": 5,
   "metadata": {},
   "outputs": [],
   "source": [
    "class Up(nn.Module):\n",
    "    \"\"\"Upscaling then double conv\"\"\"\n",
    "\n",
    "    def __init__(self, in_channels, out_channels, bilinear=True):\n",
    "        super().__init__()\n",
    "\n",
    "        # if bilinear, use the normal convolutions to reduce the number of channels\n",
    "        if bilinear:\n",
    "            self.up = nn.Upsample(scale_factor=2, mode='bilinear', align_corners=True)\n",
    "        else:\n",
    "            self.up = nn.ConvTranspose2d(in_channels // 2, in_channels // 2, kernel_size=2, stride=2)\n",
    "\n",
    "        self.conv = DoubleConv(in_channels, out_channels)\n",
    "\n",
    "    def forward(self, x1, x2):\n",
    "        x1 = self.up(x1)\n",
    "        # input is CHW\n",
    "        diffY = x2.size()[2] - x1.size()[2]\n",
    "        diffX = x2.size()[3] - x1.size()[3]\n",
    "\n",
    "        x1 = F.pad(x1, [diffX // 2, diffX - diffX // 2,\n",
    "                        diffY // 2, diffY - diffY // 2])\n",
    "        # if you have padding issues, see\n",
    "        # https://github.com/HaiyongJiang/U-Net-Pytorch-Unstructured-Buggy/commit/0e854509c2cea854e247a9c615f175f76fbb2e3a\n",
    "        # https://github.com/xiaopeng-liao/Pytorch-UNet/commit/8ebac70e633bac59fc22bb5195e513d5832fb3bd\n",
    "        x = torch.cat([x2, x1], dim=1)\n",
    "        return self.conv(x)\n"
   ]
  },
  {
   "cell_type": "code",
   "execution_count": 6,
   "metadata": {},
   "outputs": [],
   "source": [
    "class Model(nn.Module):\n",
    "    \"\"\" ITAE model \"\"\"\n",
    "\n",
    "    def __init__(self, n_channels=3, bilinear=True):\n",
    "        super(Model, self).__init__()\n",
    "        # Encoder\n",
    "        self.in_conv = DoubleConv(1, 64)\n",
    "        self.down1 = Down(64, 128)\n",
    "        self.down2 = Down(128, 256)\n",
    "        self.down3 = Down(256, 512)\n",
    "        self.down4 = Down(512, 512)\n",
    "        \n",
    "        # Decoder\n",
    "        self.up1 = Up(1024, 256, bilinear)\n",
    "        self.up2 = Up(512, 128, bilinear)\n",
    "        self.up3 = Up(256, 64, bilinear)\n",
    "        self.up4 = Up(128, 64)\n",
    "        \n",
    "        # seems that the structure in paper does not contain 'tanh'\n",
    "        self.out_conv = nn.Conv2d(64, n_channels, kernel_size=3, stride=1, padding=1, bias=False)# Unet use 1*1conv to be out_conv\n",
    "\n",
    "    def forward(self, x):\n",
    "        x0_2 = self.in_conv(x)\n",
    "        x1_3 = self.down1(x0_2)\n",
    "        x2_3 = self.down2(x1_3)\n",
    "        x3_3 = self.down3(x2_3)\n",
    "        x4_3 = self.down4(x3_3)\n",
    "        x = self.up1(x4_3, x3_3)\n",
    "        x = self.up2(x, x2_3)\n",
    "        x = self.up3(x, x1_3)\n",
    "        x = self.up4(x, x0_2)\n",
    "        out = torch.tanh(self.out_conv(x))\n",
    "        return out"
   ]
  },
  {
   "cell_type": "markdown",
   "metadata": {},
   "source": [
    "## TRAINING LOOP DEFINITION "
   ]
  },
  {
   "cell_type": "code",
   "execution_count": 7,
   "metadata": {},
   "outputs": [],
   "source": [
    "def train_epoch(epoch_i, model, train_loader, criterion, optimizer, running_loss, train_scheduler, model_name = 'default_AE'): #cfg, log, train_scheduler):\n",
    "\n",
    "    batch_time = AverageMeter()  # measure the batch time\n",
    "    data_time = AverageMeter()  # measure the average time on data\n",
    "    losses = AverageMeter()    # measure the average loss\n",
    "\n",
    "    model.train()          # set the model into the training mode\n",
    "\n",
    "    end_time = time.time()\n",
    "    \n",
    "    # iterate over the batches in the epoch\n",
    "    for input_img, label in tqdm(train_loader):\n",
    "        model.zero_grad() # restart gradients\n",
    "        \n",
    "        data_time.update(time.time() - end_time)\n",
    "        curr_time = datetime.datetime.now()\n",
    "        curr_time = datetime.datetime.strftime(curr_time, '%Y-%m-%d %H:%M:%S')\n",
    "        \n",
    "        input_img = input_img.to(device) \n",
    "        \n",
    "        restore_image = model(input_img) # run the image through the autoencoder\n",
    "        \n",
    "        loss = criterion(restore_image, input_img) # debug the dtype of label image, need 'long'?\n",
    "        \n",
    "        loss.backward()  # backpropagate loss\n",
    "        optimizer.step()  # optimizer\n",
    "        \n",
    "        running_loss += loss.item() * input_img.size(0)\n",
    "        losses.update(loss.item(), input_img.size(0)) # update the average loss\n",
    "        batch_time.update(time.time() - end_time)   # update the average batch time\n",
    "        end_time = time.time() \n",
    "        \n",
    "    print('{0}\\t' 'Loss {loss.val:.4f} ({loss.avg:.4f})\\t''lr {1}'.format(curr_time, optimizer.param_groups[0]['lr'], loss=losses))\n",
    "    \n",
    "    if epoch_i%5 == 0:\n",
    "        torch.save({'state_dict':model.state_dict()}, '/home/ryznerf/Computer_Vision/6.869_Computer_Vision_project/saved_classifiers/AutoEncoders/' + model_name)\n",
    "    \n",
    "    train_scheduler.step()  # update the scheduler\n",
    "    return running_loss"
   ]
  },
  {
   "cell_type": "code",
   "execution_count": 8,
   "metadata": {},
   "outputs": [],
   "source": [
    "def test_epoch(model, train4val_loader, test_loader, criterion, cfg, log, i=1):\n",
    "\n",
    "    model.eval()\n",
    "    t = cfg.transformations\n",
    "    with torch.no_grad():\n",
    "        print('evaluate on the train dataset for normal samples L1 error-------')\n",
    "        nrm_err = torch.zeros(size=(len(train4val_loader.dataset), t), dtype=torch.float32).cuda()\n",
    "        for i_batch, (tfs_images, org_image, label) in enumerate(tqdm(train4val_loader)):\n",
    "            b, t, c, h, w = tfs_images.size()#c=1\n",
    "            tfs_images = tfs_images.view(b*t, c, h, w).cuda()\n",
    "            org_image = org_image.cuda()# b c h w\n",
    "            restore_images = model(tfs_images)\n",
    "            restore_images = restore_images.view(b, t, cfg.nc, h, w)\n",
    "            for j in range(t):\n",
    "                err = criterion(restore_images[:, j, :], org_image)# debug the shape of err\n",
    "                nrm_err[i_batch*cfg.batchsize: i_batch*cfg.batchsize+err.size(0), j] = err.reshape(err.size(0))\n",
    "        # print((nrm_err.size()))\n",
    "        nrm_err = torch.mean(nrm_err, dim=0)# shape: t\n",
    "\n",
    "        print('evaluate on the test dataset for normalized L1 error-------')\n",
    "        abn_err = torch.zeros(size=(len(test_loader.dataset), t), dtype=torch.float32).cuda()\n",
    "        abn_tgt = torch.zeros(size=(len(test_loader.dataset),), dtype=torch.long).cuda()\n",
    "        for i_batch, (tfs_images, org_image, label) in enumerate(tqdm(test_loader)):\n",
    "            b, t, c, h, w = tfs_images.size()\n",
    "            tfs_images = tfs_images.view(b*t, c, h, w).cuda()\n",
    "            org_image = org_image.cuda()# b c h w\n",
    "            restore_images = model(tfs_images)\n",
    "            restore_images = restore_images.view(b, t, cfg.nc, h, w)\n",
    "            abn_tgt[i_batch * cfg.batchsize: i_batch * cfg.batchsize + b] = label.reshape(b)\n",
    "            for j in range(t):\n",
    "                err = criterion(restore_images[:, j, :], org_image) / nrm_err[j]\n",
    "                abn_err[i_batch * cfg.batchsize: i_batch * cfg.batchsize + err.size(0), j] = err.reshape(err.size(0))\n",
    "        abn_err = torch.mean(abn_err, dim=1)# shape: len(test_loader.dataset)\n",
    "\n",
    "        auroc = evaluate(abn_tgt, abn_err, metric='roc')\n",
    "\n",
    "        print('the test dataset AUROC is {}%'.format(auroc * 100))\n",
    "\n",
    "        if auroc > cfg.best_auroc:\n",
    "            save_file_path = os.path.join(cfg.work_dir, 'model')\n",
    "            mmcv.mkdir_or_exist(save_file_path)\n",
    "            states = {\n",
    "                'epoch': i,\n",
    "                'state_dict': model.state_dict()\n",
    "            }\n",
    "            torch.save(states, os.path.join(save_file_path, 'best_model.pth'))\n",
    "            cfg.best_auroc = auroc"
   ]
  },
  {
   "cell_type": "markdown",
   "metadata": {},
   "source": [
    "## Loading the Data"
   ]
  },
  {
   "cell_type": "code",
   "execution_count": 9,
   "metadata": {},
   "outputs": [],
   "source": [
    "def get_image_transforms():\n",
    "    transform = transforms.Compose([\n",
    "            transforms.Grayscale(num_output_channels=1),\n",
    "            transforms.ToTensor(),\n",
    "            transforms.Normalize([0.0857], [0.1818]),\n",
    "        ])\n",
    "    return transform\n"
   ]
  },
  {
   "cell_type": "code",
   "execution_count": 10,
   "metadata": {},
   "outputs": [],
   "source": [
    "bs = 32\n",
    "\n",
    "manualSeed = 10 #cfg.manualseed\n",
    "np.random.seed(manualSeed)\n",
    "torch.manual_seed(manualSeed)\n",
    "\n",
    "model = Model(n_channels= 1, bilinear= True)\n",
    "model = model.to(device)\n",
    "\n",
    "criterion = torch.nn.MSELoss()#squared l2 loss\n",
    "optimizer = optim.SGD(model.parameters(), lr= 0.1, momentum=0.9)\n",
    "#optimizer = torch.optim.Adam(model.parameters(), lr=0.001)\n",
    "\n",
    "dataset = datasets.ImageFolder('/home/ryznerf/Computer_Vision/pytorch_data_input_test/train', get_image_transforms())\n",
    "train_loader = torch.utils.data.DataLoader(dataset, batch_size=bs, num_workers=4)\n",
    "\n",
    "dataset_val = datasets.ImageFolder('/home/ryznerf/Computer_Vision/pytorch_data_input_test/test', get_image_transforms())\n",
    "train_val = torch.utils.data.DataLoader(dataset_val, batch_size=bs, num_workers=4)\n",
    "\n",
    "\n",
    "iter_per_epoch = len(train_loader)\n",
    "train_scheduler = optim.lr_scheduler.MultiStepLR(optimizer, milestones=[10,20,60], gamma=0.1)\n",
    "\n",
    "# for i in range(0, 1):\n",
    "#     train_epoch(i, model, train_loader, criterion, optimizer, cfg, log, train_scheduler)\n",
    "#     test_epoch(model, train4val_loader, test_loader, L1_measure, cfg, log, i)"
   ]
  },
  {
   "cell_type": "code",
   "execution_count": 11,
   "metadata": {},
   "outputs": [
    {
     "name": "stderr",
     "output_type": "stream",
     "text": [
      "100%|██████████| 298/298 [01:43<00:00,  2.88it/s]\n",
      "  0%|          | 0/298 [00:00<?, ?it/s]"
     ]
    },
    {
     "name": "stdout",
     "output_type": "stream",
     "text": [
      "2022-05-06 16:57:40\tLoss 0.7299 (0.6420)\tlr 0.1\n"
     ]
    },
    {
     "name": "stderr",
     "output_type": "stream",
     "text": [
      "100%|██████████| 298/298 [01:44<00:00,  2.84it/s]\n",
      "  0%|          | 0/298 [00:00<?, ?it/s]"
     ]
    },
    {
     "name": "stdout",
     "output_type": "stream",
     "text": [
      "2022-05-06 16:59:25\tLoss 0.7270 (0.6314)\tlr 0.1\n"
     ]
    },
    {
     "name": "stderr",
     "output_type": "stream",
     "text": [
      "100%|██████████| 298/298 [01:45<00:00,  2.81it/s]\n",
      "  0%|          | 0/298 [00:00<?, ?it/s]"
     ]
    },
    {
     "name": "stdout",
     "output_type": "stream",
     "text": [
      "2022-05-06 17:01:11\tLoss 0.7325 (0.6501)\tlr 0.1\n"
     ]
    },
    {
     "name": "stderr",
     "output_type": "stream",
     "text": [
      "  5%|▌         | 16/298 [00:05<01:41,  2.77it/s]\n",
      "ERROR:root:Internal Python error in the inspect module.\n",
      "Below is the traceback from this internal error.\n",
      "\n"
     ]
    },
    {
     "name": "stdout",
     "output_type": "stream",
     "text": [
      "Traceback (most recent call last):\n",
      "  File \"/home/software/anaconda3/2019.10_powerai/envs/powerai/lib/python3.7/site-packages/IPython/core/interactiveshell.py\", line 3319, in run_code\n",
      "    exec(code_obj, self.user_global_ns, self.user_ns)\n",
      "  File \"<ipython-input-11-2918c4ee75a2>\", line 7, in <module>\n",
      "    rl = train_epoch(i, model, train_loader, criterion, optimizer, rl, train_scheduler)\n",
      "  File \"<ipython-input-7-296cbbc7d379>\", line 28, in train_epoch\n",
      "    running_loss += loss.item() * input_img.size(0)\n",
      "KeyboardInterrupt\n",
      "\n",
      "During handling of the above exception, another exception occurred:\n",
      "\n",
      "Traceback (most recent call last):\n",
      "  File \"/home/software/anaconda3/2019.10_powerai/envs/powerai/lib/python3.7/site-packages/IPython/core/interactiveshell.py\", line 2034, in showtraceback\n",
      "    stb = value._render_traceback_()\n",
      "AttributeError: 'KeyboardInterrupt' object has no attribute '_render_traceback_'\n",
      "\n",
      "During handling of the above exception, another exception occurred:\n",
      "\n",
      "Traceback (most recent call last):\n",
      "  File \"/home/software/anaconda3/2019.10_powerai/envs/powerai/lib/python3.7/site-packages/IPython/core/ultratb.py\", line 1151, in get_records\n",
      "    return _fixed_getinnerframes(etb, number_of_lines_of_context, tb_offset)\n",
      "  File \"/home/software/anaconda3/2019.10_powerai/envs/powerai/lib/python3.7/site-packages/IPython/core/ultratb.py\", line 319, in wrapped\n",
      "    return f(*args, **kwargs)\n",
      "  File \"/home/software/anaconda3/2019.10_powerai/envs/powerai/lib/python3.7/site-packages/IPython/core/ultratb.py\", line 353, in _fixed_getinnerframes\n",
      "    records = fix_frame_records_filenames(inspect.getinnerframes(etb, context))\n",
      "  File \"/home/software/anaconda3/2019.10_powerai/envs/powerai/lib/python3.7/inspect.py\", line 1502, in getinnerframes\n",
      "    frameinfo = (tb.tb_frame,) + getframeinfo(tb, context)\n",
      "  File \"/home/software/anaconda3/2019.10_powerai/envs/powerai/lib/python3.7/inspect.py\", line 1460, in getframeinfo\n",
      "    filename = getsourcefile(frame) or getfile(frame)\n",
      "  File \"/home/software/anaconda3/2019.10_powerai/envs/powerai/lib/python3.7/inspect.py\", line 696, in getsourcefile\n",
      "    if getattr(getmodule(object, filename), '__loader__', None) is not None:\n",
      "  File \"/home/software/anaconda3/2019.10_powerai/envs/powerai/lib/python3.7/inspect.py\", line 742, in getmodule\n",
      "    os.path.realpath(f)] = module.__name__\n",
      "  File \"/home/software/anaconda3/2019.10_powerai/envs/powerai/lib/python3.7/posixpath.py\", line 395, in realpath\n",
      "    path, ok = _joinrealpath(filename[:0], filename, {})\n",
      "  File \"/home/software/anaconda3/2019.10_powerai/envs/powerai/lib/python3.7/posixpath.py\", line 429, in _joinrealpath\n",
      "    if not islink(newpath):\n",
      "  File \"/home/software/anaconda3/2019.10_powerai/envs/powerai/lib/python3.7/posixpath.py\", line 171, in islink\n",
      "    st = os.lstat(path)\n",
      "KeyboardInterrupt\n"
     ]
    },
    {
     "ename": "KeyboardInterrupt",
     "evalue": "",
     "output_type": "error",
     "traceback": [
      "\u001b[0;31m---------------------------------------------------------------------------\u001b[0m"
     ]
    }
   ],
   "source": [
    "#train_epoch(epoch_i, model, train_loader, criterion, optimizer, running_loss, train_scheduler, model_name = 'default_AE')\n",
    "\n",
    "from tqdm import tqdm\n",
    "rl = 0\n",
    "\n",
    "for i in range(0, 100):\n",
    "    rl = train_epoch(i, model, train_loader, criterion, optimizer, rl, train_scheduler)\n",
    "#    test_epoch(model, train4val_loader, test_loader, L1_measure, cfg, log, i)"
   ]
  },
  {
   "cell_type": "code",
   "execution_count": null,
   "metadata": {},
   "outputs": [],
   "source": [
    "out = next(iter(train_val))\n",
    "out.shape"
   ]
  },
  {
   "cell_type": "code",
   "execution_count": 35,
   "metadata": {},
   "outputs": [
    {
     "data": {
      "image/png": "[encoded data removed]",
      "text/plain": [
       "<Figure size 432x288 with 1 Axes>"
      ]
     },
     "metadata": {
      "needs_background": "light"
     },
     "output_type": "display_data"
    }
   ],
   "source": [
    "plt.imshow(out[0][20][0].detach().cpu().numpy(), cmap ='gray')\n",
    "plt.show()"
   ]
  },
  {
   "cell_type": "code",
   "execution_count": 36,
   "metadata": {},
   "outputs": [
    {
     "data": {
      "text/plain": [
       "<matplotlib.image.AxesImage at 0x20009dc49e10>"
      ]
     },
     "execution_count": 36,
     "metadata": {},
     "output_type": "execute_result"
    },
    {
     "data": {
      "image/png": "[encoded data removed]",
      "text/plain": [
       "<Figure size 432x288 with 1 Axes>"
      ]
     },
     "metadata": {
      "needs_background": "light"
     },
     "output_type": "display_data"
    }
   ],
   "source": [
    "model = model.to(device)\n",
    "res = model(out[0].to(device))\n",
    "res.shape\n",
    "plt.imshow(res[20][0].detach().cpu().numpy(), cmap ='gray')\n",
    "#plt.show()"
   ]
  },
  {
   "cell_type": "code",
   "execution_count": 36,
   "metadata": {},
   "outputs": [],
   "source": [
    "model_name = 'default_AE'\n",
    "torch.save({'state_dict':model.state_dict()}, '/home/ryznerf/Computer_Vision/6.869_Computer_Vision_project/saved_classifiers/AutoEncoders/' + model_name)"
   ]
  },
  {
   "cell_type": "code",
   "execution_count": 22,
   "metadata": {},
   "outputs": [],
   "source": [
    "y = torch.load('/home/ryznerf/Computer_Vision/6.869_Computer_Vision_project/saved_classifiers/AutoEncoders/' + model_name)"
   ]
  },
  {
   "cell_type": "code",
   "execution_count": 11,
   "metadata": {},
   "outputs": [
    {
     "data": {
      "text/plain": [
       "<All keys matched successfully>"
      ]
     },
     "execution_count": 11,
     "metadata": {},
     "output_type": "execute_result"
    }
   ],
   "source": [
    "model_name = 'default_AE'\n",
    "model = Model(n_channels= 1, bilinear= True)\n",
    "checkpoint = torch.load('/home/ryznerf/Computer_Vision/6.869_Computer_Vision_project/saved_classifiers/AutoEncoders/' + model_name)\n",
    "model.load_state_dict(checkpoint['state_dict'])"
   ]
  },
  {
   "cell_type": "code",
   "execution_count": 11,
   "metadata": {},
   "outputs": [
    {
     "data": {
      "text/plain": [
       "0"
      ]
     },
     "execution_count": 11,
     "metadata": {},
     "output_type": "execute_result"
    }
   ],
   "source": [
    "rl"
   ]
  },
  {
   "cell_type": "code",
   "execution_count": null,
   "metadata": {},
   "outputs": [],
   "source": []
  }
 ],
 "metadata": {
  "kernelspec": {
   "display_name": "Python 3 PowerAI",
   "language": "python",
   "name": "python3"
  },
  "language_info": {
   "codemirror_mode": {
    "name": "ipython",
    "version": 3
   },
   "file_extension": ".py",
   "mimetype": "text/x-python",
   "name": "python",
   "nbconvert_exporter": "python",
   "pygments_lexer": "ipython3",
   "version": "3.7.6"
  }
 },
 "nbformat": 4,
 "nbformat_minor": 4
}
