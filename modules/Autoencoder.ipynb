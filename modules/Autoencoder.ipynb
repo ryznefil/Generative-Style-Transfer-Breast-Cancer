{
 "cells": [
  {
   "cell_type": "code",
   "execution_count": 7,
   "metadata": {},
   "outputs": [],
   "source": [
    "import torch\n",
    "import torch.nn as nn\n",
    "import torch.nn.functional as F\n",
    "\n",
    "import time\n",
    "import datetime\n",
    "import torch\n",
    "import os\n",
    "from tqdm import tqdm\n",
    "from torchvision import datasets, models, transforms\n",
    "\n",
    "import matplotlib.pyplot as plt\n",
    "\n",
    "device = torch.device(\"cuda:0\" if torch.cuda.is_available() else \"cpu\")\n",
    "\n",
    "import torch\n",
    "import torch.nn as nn\n",
    "import torch.optim as optim\n",
    "import numpy as np\n",
    "import torchvision\n",
    "from torchvision import datasets, models, transforms\n",
    "import matplotlib.pyplot as plt\n",
    "import time\n",
    "# You might not have tqdm, which gives you nice progress bars\n",
    "#!pip install tqdm\n",
    "import tqdm\n",
    "import os\n",
    "import copy\n",
    "import pandas as pd\n",
    "import PIL \n",
    "import time as t"
   ]
  },
  {
   "cell_type": "code",
   "execution_count": 8,
   "metadata": {},
   "outputs": [
    {
     "data": {
      "text/plain": [
       "[25, 50, 75, 100, 125, 150, 175, 200, 225]"
      ]
     },
     "execution_count": 8,
     "metadata": {},
     "output_type": "execute_result"
    }
   ],
   "source": []
  },
  {
   "cell_type": "code",
   "execution_count": 10,
   "metadata": {},
   "outputs": [],
   "source": [
    "\"\"\" Evaluate ROC\n",
    "Returns:\n",
    "    auc, eer: Area under the curve, Equal Error Rate\n",
    "\"\"\"\n",
    "from __future__ import print_function\n",
    "\n",
    "import os\n",
    "from sklearn.metrics import roc_curve, auc, average_precision_score, f1_score\n",
    "from scipy.optimize import brentq\n",
    "from scipy.interpolate import interp1d\n",
    "import matplotlib.pyplot as plt\n",
    "\n",
    "class AverageMeter(object):\n",
    "    \"\"\"Computes and stores the average and current value\"\"\"\n",
    "    def __init__(self):\n",
    "        self.val = 0\n",
    "        self.avg = 0\n",
    "        self.sum = 0\n",
    "        self.count = 0\n",
    "\n",
    "    def reset(self):\n",
    "        self.val = 0\n",
    "        self.avg = 0\n",
    "        self.sum = 0\n",
    "        self.count = 0\n",
    "\n",
    "    def update(self, val, n=1):\n",
    "        self.val = val\n",
    "        self.sum += val * n\n",
    "        self.count += n\n",
    "        self.avg = self.sum / self.count"
   ]
  },
  {
   "cell_type": "markdown",
   "metadata": {},
   "source": [
    "## MODEL DEFINITION"
   ]
  },
  {
   "cell_type": "code",
   "execution_count": 11,
   "metadata": {},
   "outputs": [],
   "source": [
    "# Refer to https://github.com/milesial/Pytorch-UNet/blob/master/unet/unet_parts.py\n",
    "class DoubleConv(nn.Module):\n",
    "    \"\"\"(convolution => [BN] => ReLU) * 2\"\"\"\n",
    "\n",
    "    def __init__(self, in_channels, out_channels):\n",
    "        super().__init__()\n",
    "        self.double_conv = nn.Sequential(\n",
    "            nn.Conv2d(in_channels, out_channels, kernel_size=3, padding=1),\n",
    "            nn.BatchNorm2d(out_channels),\n",
    "            nn.ReLU(inplace=True),\n",
    "            nn.Conv2d(out_channels, out_channels, kernel_size=3, padding=1),\n",
    "            nn.BatchNorm2d(out_channels),\n",
    "            nn.ReLU(inplace=True)\n",
    "        )\n",
    "\n",
    "    def forward(self, x):\n",
    "        return self.double_conv(x)"
   ]
  },
  {
   "cell_type": "code",
   "execution_count": 12,
   "metadata": {},
   "outputs": [],
   "source": [
    "class Down(nn.Module):\n",
    "    \"\"\"Downscaling with maxpool then double conv\"\"\"\n",
    "\n",
    "    def __init__(self, in_channels, out_channels):\n",
    "        super().__init__()\n",
    "        self.maxpool_conv = nn.Sequential(\n",
    "            nn.MaxPool2d(kernel_size=(2, 2), stride=(2, 2)),\n",
    "            DoubleConv(in_channels, out_channels)\n",
    "        )\n",
    "\n",
    "    def forward(self, x):\n",
    "        return self.maxpool_conv(x)"
   ]
  },
  {
   "cell_type": "code",
   "execution_count": 13,
   "metadata": {},
   "outputs": [],
   "source": [
    "class Up(nn.Module):\n",
    "    \"\"\"Upscaling then double conv\"\"\"\n",
    "\n",
    "    def __init__(self, in_channels, out_channels, bilinear=True):\n",
    "        super().__init__()\n",
    "\n",
    "        # if bilinear, use the normal convolutions to reduce the number of channels\n",
    "        if bilinear:\n",
    "            self.up = nn.Upsample(scale_factor=2, mode='bilinear', align_corners=True)\n",
    "        else:\n",
    "            self.up = nn.ConvTranspose2d(in_channels // 2, in_channels // 2, kernel_size=2, stride=2)\n",
    "\n",
    "        self.conv = DoubleConv(in_channels, out_channels)\n",
    "\n",
    "    def forward(self, x1, x2):\n",
    "        x1 = self.up(x1)\n",
    "        # input is CHW\n",
    "        diffY = x2.size()[2] - x1.size()[2]\n",
    "        diffX = x2.size()[3] - x1.size()[3]\n",
    "\n",
    "        x1 = F.pad(x1, [diffX // 2, diffX - diffX // 2,\n",
    "                        diffY // 2, diffY - diffY // 2])\n",
    "        # if you have padding issues, see\n",
    "        # https://github.com/HaiyongJiang/U-Net-Pytorch-Unstructured-Buggy/commit/0e854509c2cea854e247a9c615f175f76fbb2e3a\n",
    "        # https://github.com/xiaopeng-liao/Pytorch-UNet/commit/8ebac70e633bac59fc22bb5195e513d5832fb3bd\n",
    "        x = torch.cat([x2, x1], dim=1)\n",
    "        return self.conv(x)\n"
   ]
  },
  {
   "cell_type": "code",
   "execution_count": 14,
   "metadata": {},
   "outputs": [],
   "source": [
    "class Model(nn.Module):\n",
    "    \"\"\" ITAE model \"\"\"\n",
    "\n",
    "    def __init__(self, n_channels=3, bilinear=True):\n",
    "        super(Model, self).__init__()\n",
    "        # Encoder\n",
    "        self.in_conv = DoubleConv(1, 64)\n",
    "        self.down1 = Down(64, 128)\n",
    "        self.down2 = Down(128, 256)\n",
    "        self.down3 = Down(256, 512)\n",
    "        self.down4 = Down(512, 512)\n",
    "        \n",
    "        # Decoder\n",
    "        self.up1 = Up(1024, 256, bilinear)\n",
    "        self.up2 = Up(512, 128, bilinear)\n",
    "        self.up3 = Up(256, 64, bilinear)\n",
    "        self.up4 = Up(128, 64)\n",
    "        \n",
    "        # seems that the structure in paper does not contain 'tanh'\n",
    "        self.out_conv = nn.Conv2d(64, n_channels, kernel_size=3, stride=1, padding=1, bias=False)# Unet use 1*1conv to be out_conv\n",
    "\n",
    "    def forward(self, x):\n",
    "        x0_2 = self.in_conv(x)\n",
    "        x1_3 = self.down1(x0_2)\n",
    "        x2_3 = self.down2(x1_3)\n",
    "        x3_3 = self.down3(x2_3)\n",
    "        x4_3 = self.down4(x3_3)\n",
    "        x = self.up1(x4_3, x3_3)\n",
    "        x = self.up2(x, x2_3)\n",
    "        x = self.up3(x, x1_3)\n",
    "        x = self.up4(x, x0_2)\n",
    "        out = torch.tanh(self.out_conv(x))\n",
    "        return out"
   ]
  },
  {
   "cell_type": "markdown",
   "metadata": {},
   "source": [
    "## TRAINING LOOP DEFINITION "
   ]
  },
  {
   "cell_type": "code",
   "execution_count": 16,
   "metadata": {},
   "outputs": [],
   "source": [
    "def train_epoch(epoch_i, model, train_loader, criterion, optimizer, running_loss, train_scheduler, model_name = 'default_AE'): #cfg, log, train_scheduler):\n",
    "\n",
    "    batch_time = AverageMeter()  # measure the batch time\n",
    "    data_time = AverageMeter()  # measure the average time on data\n",
    "    losses = AverageMeter()    # measure the average loss\n",
    "\n",
    "    model.train()          # set the model into the training mode\n",
    "\n",
    "    end_time = time.time()\n",
    "    \n",
    "    # iterate over the batches in the epoch\n",
    "    for input_img, label in tqdm(train_loader):\n",
    "        model.zero_grad() # restart gradients\n",
    "        \n",
    "        data_time.update(time.time() - end_time)\n",
    "        curr_time = datetime.datetime.now()\n",
    "        curr_time = datetime.datetime.strftime(curr_time, '%Y-%m-%d %H:%M:%S')\n",
    "        \n",
    "        input_img = input_img.to(device) \n",
    "        \n",
    "        restore_image = model(input_img) # run the image through the autoencoder\n",
    "        \n",
    "        loss = criterion(restore_image, input_img) # debug the dtype of label image, need 'long'?\n",
    "        \n",
    "        loss.backward()  # backpropagate loss\n",
    "        optimizer.step()  # optimizer\n",
    "        \n",
    "        running_loss += loss.item() * input_img.size(0)\n",
    "        losses.update(loss.item(), input_img.size(0)) # update the average loss\n",
    "        batch_time.update(time.time() - end_time)   # update the average batch time\n",
    "        end_time = time.time() \n",
    "        \n",
    "    print('{0}\\t' 'Epoch: {2}' 'Loss {loss.val:.4f} ({loss.avg:.4f})\\t''lr {1}'.format(curr_time, optimizer.param_groups[0]['lr'], epoch_i, loss=losses))\n",
    "    \n",
    "    if epoch_i%5 == 0:\n",
    "        torch.save({'state_dict':model.state_dict()}, '/home/ryznerf/Computer_Vision/6.869_Computer_Vision_project/saved_classifiers/AutoEncoders/' + model_name)\n",
    "    \n",
    "    train_scheduler.step()  # update the scheduler\n",
    "    return running_loss"
   ]
  },
  {
   "cell_type": "code",
   "execution_count": 8,
   "metadata": {},
   "outputs": [],
   "source": [
    "def test_epoch(model, train4val_loader, test_loader, criterion, cfg, log, i=1):\n",
    "\n",
    "    model.eval()\n",
    "    t = cfg.transformations\n",
    "    with torch.no_grad():\n",
    "        print('evaluate on the train dataset for normal samples L1 error-------')\n",
    "        nrm_err = torch.zeros(size=(len(train4val_loader.dataset), t), dtype=torch.float32).cuda()\n",
    "        for i_batch, (tfs_images, org_image, label) in enumerate(tqdm(train4val_loader)):\n",
    "            b, t, c, h, w = tfs_images.size()#c=1\n",
    "            tfs_images = tfs_images.view(b*t, c, h, w).cuda()\n",
    "            org_image = org_image.cuda()# b c h w\n",
    "            restore_images = model(tfs_images)\n",
    "            restore_images = restore_images.view(b, t, cfg.nc, h, w)\n",
    "            for j in range(t):\n",
    "                err = criterion(restore_images[:, j, :], org_image)# debug the shape of err\n",
    "                nrm_err[i_batch*cfg.batchsize: i_batch*cfg.batchsize+err.size(0), j] = err.reshape(err.size(0))\n",
    "        # print((nrm_err.size()))\n",
    "        nrm_err = torch.mean(nrm_err, dim=0)# shape: t\n",
    "\n",
    "        print('evaluate on the test dataset for normalized L1 error-------')\n",
    "        abn_err = torch.zeros(size=(len(test_loader.dataset), t), dtype=torch.float32).cuda()\n",
    "        abn_tgt = torch.zeros(size=(len(test_loader.dataset),), dtype=torch.long).cuda()\n",
    "        for i_batch, (tfs_images, org_image, label) in enumerate(tqdm(test_loader)):\n",
    "            b, t, c, h, w = tfs_images.size()\n",
    "            tfs_images = tfs_images.view(b*t, c, h, w).cuda()\n",
    "            org_image = org_image.cuda()# b c h w\n",
    "            restore_images = model(tfs_images)\n",
    "            restore_images = restore_images.view(b, t, cfg.nc, h, w)\n",
    "            abn_tgt[i_batch * cfg.batchsize: i_batch * cfg.batchsize + b] = label.reshape(b)\n",
    "            for j in range(t):\n",
    "                err = criterion(restore_images[:, j, :], org_image) / nrm_err[j]\n",
    "                abn_err[i_batch * cfg.batchsize: i_batch * cfg.batchsize + err.size(0), j] = err.reshape(err.size(0))\n",
    "        abn_err = torch.mean(abn_err, dim=1)# shape: len(test_loader.dataset)\n",
    "\n",
    "        auroc = evaluate(abn_tgt, abn_err, metric='roc')\n",
    "\n",
    "        print('the test dataset AUROC is {}%'.format(auroc * 100))\n",
    "\n",
    "        if auroc > cfg.best_auroc:\n",
    "            save_file_path = os.path.join(cfg.work_dir, 'model')\n",
    "            mmcv.mkdir_or_exist(save_file_path)\n",
    "            states = {\n",
    "                'epoch': i,\n",
    "                'state_dict': model.state_dict()\n",
    "            }\n",
    "            torch.save(states, os.path.join(save_file_path, 'best_model.pth'))\n",
    "            cfg.best_auroc = auroc"
   ]
  },
  {
   "cell_type": "markdown",
   "metadata": {},
   "source": [
    "## Loading the Data"
   ]
  },
  {
   "cell_type": "code",
   "execution_count": 17,
   "metadata": {},
   "outputs": [],
   "source": [
    "def get_image_transforms():\n",
    "    transform = transforms.Compose([\n",
    "            transforms.Grayscale(num_output_channels=1),\n",
    "            transforms.ToTensor(),\n",
    "            transforms.Normalize([0.0857], [0.1818]),\n",
    "        ])\n",
    "    return transform\n"
   ]
  },
  {
   "cell_type": "code",
   "execution_count": 19,
   "metadata": {},
   "outputs": [],
   "source": [
    "bs = 32\n",
    "\n",
    "model = Model(n_channels= 1, bilinear= True)\n",
    "model = model.to(device)\n",
    "\n",
    "criterion = torch.nn.MSELoss()#squared l2 loss\n",
    "optimizer = optim.SGD(model.parameters(), lr= 0.1)\n",
    "#optimizer = torch.optim.Adam(model.parameters(), lr=0.001)\n",
    "\n",
    "dataset = datasets.ImageFolder('/home/ryznerf/Computer_Vision/pytorch_data_input/train', get_image_transforms())\n",
    "train_loader = torch.utils.data.DataLoader(dataset, batch_size=bs, num_workers=4, shuffle = True)\n",
    "\n",
    "dataset_val = datasets.ImageFolder('/home/ryznerf/Computer_Vision/pytorch_data_input/test', get_image_transforms())\n",
    "train_val = torch.utils.data.DataLoader(dataset_val, batch_size=bs, num_workers=4, shuffle = True)\n",
    "\n",
    "\n",
    "iter_per_epoch = len(train_loader)\n",
    "train_scheduler = optim.lr_scheduler.MultiStepLR(optimizer, milestones=[int(0.1 * i * 250) for i in range(1, 10)], gamma=0.5)\n",
    "\n",
    "# for i in range(0, 1):\n",
    "#     train_epoch(i, model, train_loader, criterion, optimizer, cfg, log, train_scheduler)\n",
    "#     test_epoch(model, train4val_loader, test_loader, L1_measure, cfg, log, i)"
   ]
  },
  {
   "cell_type": "code",
   "execution_count": 20,
   "metadata": {},
   "outputs": [
    {
     "name": "stderr",
     "output_type": "stream",
     "text": [
      "100%|██████████| 187/187 [01:09<00:00,  3.19it/s]\n",
      "  0%|          | 0/187 [00:00<?, ?it/s]"
     ]
    },
    {
     "name": "stdout",
     "output_type": "stream",
     "text": [
      "2022-05-06 21:24:01\t0Loss 0.2493 (0.3359)\tlr 0.1\n"
     ]
    },
    {
     "name": "stderr",
     "output_type": "stream",
     "text": [
      "100%|██████████| 187/187 [01:04<00:00,  3.17it/s]\n",
      "  0%|          | 0/187 [00:00<?, ?it/s]"
     ]
    },
    {
     "name": "stdout",
     "output_type": "stream",
     "text": [
      "2022-05-06 21:25:05\t1Loss 0.3747 (0.3187)\tlr 0.1\n"
     ]
    },
    {
     "name": "stderr",
     "output_type": "stream",
     "text": [
      "100%|██████████| 187/187 [01:04<00:00,  3.16it/s]\n",
      "  0%|          | 0/187 [00:00<?, ?it/s]"
     ]
    },
    {
     "name": "stdout",
     "output_type": "stream",
     "text": [
      "2022-05-06 21:26:09\t2Loss 0.4239 (0.3177)\tlr 0.1\n"
     ]
    },
    {
     "name": "stderr",
     "output_type": "stream",
     "text": [
      "100%|██████████| 187/187 [01:04<00:00,  3.17it/s]\n",
      "  0%|          | 0/187 [00:00<?, ?it/s]"
     ]
    },
    {
     "name": "stdout",
     "output_type": "stream",
     "text": [
      "2022-05-06 21:27:14\t3Loss 0.2746 (0.3176)\tlr 0.1\n"
     ]
    },
    {
     "name": "stderr",
     "output_type": "stream",
     "text": [
      "100%|██████████| 187/187 [01:04<00:00,  3.17it/s]\n",
      "  0%|          | 0/187 [00:00<?, ?it/s]"
     ]
    },
    {
     "name": "stdout",
     "output_type": "stream",
     "text": [
      "2022-05-06 21:28:18\t4Loss 0.1905 (0.3174)\tlr 0.1\n"
     ]
    },
    {
     "name": "stderr",
     "output_type": "stream",
     "text": [
      "100%|██████████| 187/187 [01:04<00:00,  3.16it/s]\n",
      "  0%|          | 0/187 [00:00<?, ?it/s]"
     ]
    },
    {
     "name": "stdout",
     "output_type": "stream",
     "text": [
      "2022-05-06 21:29:22\t5Loss 0.3992 (0.3170)\tlr 0.1\n"
     ]
    },
    {
     "name": "stderr",
     "output_type": "stream",
     "text": [
      "100%|██████████| 187/187 [01:04<00:00,  3.19it/s]\n",
      "  0%|          | 0/187 [00:00<?, ?it/s]"
     ]
    },
    {
     "name": "stdout",
     "output_type": "stream",
     "text": [
      "2022-05-06 21:30:27\t6Loss 0.2856 (0.3169)\tlr 0.1\n"
     ]
    },
    {
     "name": "stderr",
     "output_type": "stream",
     "text": [
      "100%|██████████| 187/187 [01:04<00:00,  3.16it/s]\n",
      "  0%|          | 0/187 [00:00<?, ?it/s]"
     ]
    },
    {
     "name": "stdout",
     "output_type": "stream",
     "text": [
      "2022-05-06 21:31:31\t7Loss 0.2388 (0.3167)\tlr 0.1\n"
     ]
    },
    {
     "name": "stderr",
     "output_type": "stream",
     "text": [
      "100%|██████████| 187/187 [01:04<00:00,  3.19it/s]\n",
      "  0%|          | 0/187 [00:00<?, ?it/s]"
     ]
    },
    {
     "name": "stdout",
     "output_type": "stream",
     "text": [
      "2022-05-06 21:32:35\t8Loss 0.3536 (0.3167)\tlr 0.1\n"
     ]
    },
    {
     "name": "stderr",
     "output_type": "stream",
     "text": [
      "100%|██████████| 187/187 [01:03<00:00,  3.21it/s]\n",
      "  0%|          | 0/187 [00:00<?, ?it/s]"
     ]
    },
    {
     "name": "stdout",
     "output_type": "stream",
     "text": [
      "2022-05-06 21:33:39\t9Loss 0.4253 (0.3165)\tlr 0.1\n"
     ]
    },
    {
     "name": "stderr",
     "output_type": "stream",
     "text": [
      "100%|██████████| 187/187 [01:03<00:00,  3.18it/s]\n",
      "  0%|          | 0/187 [00:00<?, ?it/s]"
     ]
    },
    {
     "name": "stdout",
     "output_type": "stream",
     "text": [
      "2022-05-06 21:34:43\t10Loss 0.3802 (0.3166)\tlr 0.1\n"
     ]
    },
    {
     "name": "stderr",
     "output_type": "stream",
     "text": [
      "100%|██████████| 187/187 [01:03<00:00,  3.19it/s]\n",
      "  0%|          | 0/187 [00:00<?, ?it/s]"
     ]
    },
    {
     "name": "stdout",
     "output_type": "stream",
     "text": [
      "2022-05-06 21:35:47\t11Loss 0.2297 (0.3166)\tlr 0.1\n"
     ]
    },
    {
     "name": "stderr",
     "output_type": "stream",
     "text": [
      "100%|██████████| 187/187 [01:03<00:00,  3.20it/s]\n",
      "  0%|          | 0/187 [00:00<?, ?it/s]"
     ]
    },
    {
     "name": "stdout",
     "output_type": "stream",
     "text": [
      "2022-05-06 21:36:51\t12Loss 0.2803 (0.3163)\tlr 0.1\n"
     ]
    },
    {
     "name": "stderr",
     "output_type": "stream",
     "text": [
      "100%|██████████| 187/187 [01:03<00:00,  3.20it/s]\n",
      "  0%|          | 0/187 [00:00<?, ?it/s]"
     ]
    },
    {
     "name": "stdout",
     "output_type": "stream",
     "text": [
      "2022-05-06 21:37:54\t13Loss 0.2925 (0.3164)\tlr 0.1\n"
     ]
    },
    {
     "name": "stderr",
     "output_type": "stream",
     "text": [
      "100%|██████████| 187/187 [01:03<00:00,  3.19it/s]\n",
      "  0%|          | 0/187 [00:00<?, ?it/s]"
     ]
    },
    {
     "name": "stdout",
     "output_type": "stream",
     "text": [
      "2022-05-06 21:38:58\t14Loss 0.4252 (0.3162)\tlr 0.1\n"
     ]
    },
    {
     "name": "stderr",
     "output_type": "stream",
     "text": [
      "100%|██████████| 187/187 [01:03<00:00,  3.19it/s]\n",
      "  0%|          | 0/187 [00:00<?, ?it/s]"
     ]
    },
    {
     "name": "stdout",
     "output_type": "stream",
     "text": [
      "2022-05-06 21:40:02\t15Loss 0.3395 (0.3162)\tlr 0.1\n"
     ]
    },
    {
     "name": "stderr",
     "output_type": "stream",
     "text": [
      "100%|██████████| 187/187 [01:03<00:00,  3.20it/s]\n",
      "  0%|          | 0/187 [00:00<?, ?it/s]"
     ]
    },
    {
     "name": "stdout",
     "output_type": "stream",
     "text": [
      "2022-05-06 21:41:06\t16Loss 0.3287 (0.3161)\tlr 0.1\n"
     ]
    },
    {
     "name": "stderr",
     "output_type": "stream",
     "text": [
      "100%|██████████| 187/187 [01:03<00:00,  3.20it/s]\n",
      "  0%|          | 0/187 [00:00<?, ?it/s]"
     ]
    },
    {
     "name": "stdout",
     "output_type": "stream",
     "text": [
      "2022-05-06 21:42:09\t17Loss 0.2198 (0.3162)\tlr 0.1\n"
     ]
    },
    {
     "name": "stderr",
     "output_type": "stream",
     "text": [
      "100%|██████████| 187/187 [01:03<00:00,  3.19it/s]\n",
      "  0%|          | 0/187 [00:00<?, ?it/s]"
     ]
    },
    {
     "name": "stdout",
     "output_type": "stream",
     "text": [
      "2022-05-06 21:43:13\t18Loss 0.4214 (0.3161)\tlr 0.1\n"
     ]
    },
    {
     "name": "stderr",
     "output_type": "stream",
     "text": [
      "100%|██████████| 187/187 [01:04<00:00,  3.19it/s]\n",
      "  0%|          | 0/187 [00:00<?, ?it/s]"
     ]
    },
    {
     "name": "stdout",
     "output_type": "stream",
     "text": [
      "2022-05-06 21:44:17\t19Loss 0.2854 (0.3161)\tlr 0.1\n"
     ]
    },
    {
     "name": "stderr",
     "output_type": "stream",
     "text": [
      "100%|██████████| 187/187 [01:04<00:00,  3.19it/s]\n",
      "  0%|          | 0/187 [00:00<?, ?it/s]"
     ]
    },
    {
     "name": "stdout",
     "output_type": "stream",
     "text": [
      "2022-05-06 21:45:22\t20Loss 0.3332 (0.3161)\tlr 0.1\n"
     ]
    },
    {
     "name": "stderr",
     "output_type": "stream",
     "text": [
      "100%|██████████| 187/187 [01:04<00:00,  3.17it/s]\n",
      "  0%|          | 0/187 [00:00<?, ?it/s]"
     ]
    },
    {
     "name": "stdout",
     "output_type": "stream",
     "text": [
      "2022-05-06 21:46:26\t21Loss 0.3184 (0.3159)\tlr 0.1\n"
     ]
    },
    {
     "name": "stderr",
     "output_type": "stream",
     "text": [
      "100%|██████████| 187/187 [01:04<00:00,  3.17it/s]\n",
      "  0%|          | 0/187 [00:00<?, ?it/s]"
     ]
    },
    {
     "name": "stdout",
     "output_type": "stream",
     "text": [
      "2022-05-06 21:47:30\t22Loss 0.4006 (0.3160)\tlr 0.1\n"
     ]
    },
    {
     "name": "stderr",
     "output_type": "stream",
     "text": [
      "100%|██████████| 187/187 [01:04<00:00,  3.18it/s]\n",
      "  0%|          | 0/187 [00:00<?, ?it/s]"
     ]
    },
    {
     "name": "stdout",
     "output_type": "stream",
     "text": [
      "2022-05-06 21:48:34\t23Loss 0.2583 (0.3159)\tlr 0.1\n"
     ]
    },
    {
     "name": "stderr",
     "output_type": "stream",
     "text": [
      "100%|██████████| 187/187 [01:04<00:00,  3.16it/s]\n",
      "  0%|          | 0/187 [00:00<?, ?it/s]"
     ]
    },
    {
     "name": "stdout",
     "output_type": "stream",
     "text": [
      "2022-05-06 21:49:39\t24Loss 0.4162 (0.3160)\tlr 0.1\n"
     ]
    },
    {
     "name": "stderr",
     "output_type": "stream",
     "text": [
      "100%|██████████| 187/187 [01:04<00:00,  3.19it/s]\n",
      "  0%|          | 0/187 [00:00<?, ?it/s]"
     ]
    },
    {
     "name": "stdout",
     "output_type": "stream",
     "text": [
      "2022-05-06 21:50:43\t25Loss 0.2122 (0.3158)\tlr 0.05\n"
     ]
    },
    {
     "name": "stderr",
     "output_type": "stream",
     "text": [
      "100%|██████████| 187/187 [01:04<00:00,  3.19it/s]\n",
      "  0%|          | 0/187 [00:00<?, ?it/s]"
     ]
    },
    {
     "name": "stdout",
     "output_type": "stream",
     "text": [
      "2022-05-06 21:51:47\t26Loss 0.3194 (0.3158)\tlr 0.05\n"
     ]
    },
    {
     "name": "stderr",
     "output_type": "stream",
     "text": [
      "100%|██████████| 187/187 [01:04<00:00,  3.19it/s]\n",
      "  0%|          | 0/187 [00:00<?, ?it/s]"
     ]
    },
    {
     "name": "stdout",
     "output_type": "stream",
     "text": [
      "2022-05-06 21:52:51\t27Loss 0.4472 (0.3158)\tlr 0.05\n"
     ]
    },
    {
     "name": "stderr",
     "output_type": "stream",
     "text": [
      "100%|██████████| 187/187 [01:03<00:00,  3.21it/s]\n",
      "  0%|          | 0/187 [00:00<?, ?it/s]"
     ]
    },
    {
     "name": "stdout",
     "output_type": "stream",
     "text": [
      "2022-05-06 21:53:55\t28Loss 0.2295 (0.3158)\tlr 0.05\n"
     ]
    },
    {
     "name": "stderr",
     "output_type": "stream",
     "text": [
      "100%|██████████| 187/187 [01:03<00:00,  3.21it/s]\n",
      "  0%|          | 0/187 [00:00<?, ?it/s]"
     ]
    },
    {
     "name": "stdout",
     "output_type": "stream",
     "text": [
      "2022-05-06 21:54:59\t29Loss 0.4040 (0.3158)\tlr 0.05\n"
     ]
    },
    {
     "name": "stderr",
     "output_type": "stream",
     "text": [
      "100%|██████████| 187/187 [01:03<00:00,  3.19it/s]\n",
      "  0%|          | 0/187 [00:00<?, ?it/s]"
     ]
    },
    {
     "name": "stdout",
     "output_type": "stream",
     "text": [
      "2022-05-06 21:56:03\t30Loss 0.2776 (0.3158)\tlr 0.05\n"
     ]
    },
    {
     "name": "stderr",
     "output_type": "stream",
     "text": [
      "100%|██████████| 187/187 [01:03<00:00,  3.20it/s]\n",
      "  0%|          | 0/187 [00:00<?, ?it/s]"
     ]
    },
    {
     "name": "stdout",
     "output_type": "stream",
     "text": [
      "2022-05-06 21:57:06\t31Loss 0.4266 (0.3158)\tlr 0.05\n"
     ]
    },
    {
     "name": "stderr",
     "output_type": "stream",
     "text": [
      "100%|██████████| 187/187 [01:03<00:00,  3.20it/s]\n",
      "  0%|          | 0/187 [00:00<?, ?it/s]"
     ]
    },
    {
     "name": "stdout",
     "output_type": "stream",
     "text": [
      "2022-05-06 21:58:10\t32Loss 0.3442 (0.3158)\tlr 0.05\n"
     ]
    },
    {
     "name": "stderr",
     "output_type": "stream",
     "text": [
      "100%|██████████| 187/187 [01:03<00:00,  3.20it/s]\n",
      "  0%|          | 0/187 [00:00<?, ?it/s]"
     ]
    },
    {
     "name": "stdout",
     "output_type": "stream",
     "text": [
      "2022-05-06 21:59:14\t33Loss 0.2352 (0.3158)\tlr 0.05\n"
     ]
    },
    {
     "name": "stderr",
     "output_type": "stream",
     "text": [
      "100%|██████████| 187/187 [01:03<00:00,  3.21it/s]\n",
      "  0%|          | 0/187 [00:00<?, ?it/s]"
     ]
    },
    {
     "name": "stdout",
     "output_type": "stream",
     "text": [
      "2022-05-06 22:00:18\t34Loss 0.3131 (0.3158)\tlr 0.05\n"
     ]
    },
    {
     "name": "stderr",
     "output_type": "stream",
     "text": [
      "100%|██████████| 187/187 [01:03<00:00,  3.20it/s]\n",
      "  0%|          | 0/187 [00:00<?, ?it/s]"
     ]
    },
    {
     "name": "stdout",
     "output_type": "stream",
     "text": [
      "2022-05-06 22:01:22\t35Loss 0.2796 (0.3158)\tlr 0.05\n"
     ]
    },
    {
     "name": "stderr",
     "output_type": "stream",
     "text": [
      "100%|██████████| 187/187 [01:03<00:00,  3.20it/s]\n",
      "  0%|          | 0/187 [00:00<?, ?it/s]"
     ]
    },
    {
     "name": "stdout",
     "output_type": "stream",
     "text": [
      "2022-05-06 22:02:26\t36Loss 0.3054 (0.3158)\tlr 0.05\n"
     ]
    },
    {
     "name": "stderr",
     "output_type": "stream",
     "text": [
      "100%|██████████| 187/187 [01:03<00:00,  3.20it/s]\n",
      "  0%|          | 0/187 [00:00<?, ?it/s]"
     ]
    },
    {
     "name": "stdout",
     "output_type": "stream",
     "text": [
      "2022-05-06 22:03:29\t37Loss 0.3647 (0.3157)\tlr 0.05\n"
     ]
    },
    {
     "name": "stderr",
     "output_type": "stream",
     "text": [
      "100%|██████████| 187/187 [01:03<00:00,  3.21it/s]\n",
      "  0%|          | 0/187 [00:00<?, ?it/s]"
     ]
    },
    {
     "name": "stdout",
     "output_type": "stream",
     "text": [
      "2022-05-06 22:04:33\t38Loss 0.2681 (0.3157)\tlr 0.05\n"
     ]
    },
    {
     "name": "stderr",
     "output_type": "stream",
     "text": [
      "100%|██████████| 187/187 [01:03<00:00,  3.20it/s]\n",
      "  0%|          | 0/187 [00:00<?, ?it/s]"
     ]
    },
    {
     "name": "stdout",
     "output_type": "stream",
     "text": [
      "2022-05-06 22:05:37\t39Loss 0.3141 (0.3158)\tlr 0.05\n"
     ]
    },
    {
     "name": "stderr",
     "output_type": "stream",
     "text": [
      "100%|██████████| 187/187 [01:03<00:00,  3.19it/s]\n",
      "  0%|          | 0/187 [00:00<?, ?it/s]"
     ]
    },
    {
     "name": "stdout",
     "output_type": "stream",
     "text": [
      "2022-05-06 22:06:41\t40Loss 0.3128 (0.3158)\tlr 0.05\n"
     ]
    },
    {
     "name": "stderr",
     "output_type": "stream",
     "text": [
      "100%|██████████| 187/187 [01:03<00:00,  3.20it/s]\n",
      "  0%|          | 0/187 [00:00<?, ?it/s]"
     ]
    },
    {
     "name": "stdout",
     "output_type": "stream",
     "text": [
      "2022-05-06 22:07:45\t41Loss 0.2866 (0.3157)\tlr 0.05\n"
     ]
    },
    {
     "name": "stderr",
     "output_type": "stream",
     "text": [
      "100%|██████████| 187/187 [01:03<00:00,  3.22it/s]\n",
      "  0%|          | 0/187 [00:00<?, ?it/s]"
     ]
    },
    {
     "name": "stdout",
     "output_type": "stream",
     "text": [
      "2022-05-06 22:08:49\t42Loss 0.3567 (0.3157)\tlr 0.05\n"
     ]
    },
    {
     "name": "stderr",
     "output_type": "stream",
     "text": [
      "100%|██████████| 187/187 [01:03<00:00,  3.21it/s]\n",
      "  0%|          | 0/187 [00:00<?, ?it/s]"
     ]
    },
    {
     "name": "stdout",
     "output_type": "stream",
     "text": [
      "2022-05-06 22:09:52\t43Loss 0.2901 (0.3158)\tlr 0.05\n"
     ]
    },
    {
     "name": "stderr",
     "output_type": "stream",
     "text": [
      "100%|██████████| 187/187 [01:03<00:00,  3.19it/s]\n",
      "  0%|          | 0/187 [00:00<?, ?it/s]"
     ]
    },
    {
     "name": "stdout",
     "output_type": "stream",
     "text": [
      "2022-05-06 22:10:56\t44Loss 0.3981 (0.3157)\tlr 0.05\n"
     ]
    },
    {
     "name": "stderr",
     "output_type": "stream",
     "text": [
      "100%|██████████| 187/187 [01:03<00:00,  3.18it/s]\n",
      "  0%|          | 0/187 [00:00<?, ?it/s]"
     ]
    },
    {
     "name": "stdout",
     "output_type": "stream",
     "text": [
      "2022-05-06 22:12:00\t45Loss 0.3100 (0.3157)\tlr 0.05\n"
     ]
    },
    {
     "name": "stderr",
     "output_type": "stream",
     "text": [
      "100%|██████████| 187/187 [01:03<00:00,  3.21it/s]\n",
      "  0%|          | 0/187 [00:00<?, ?it/s]"
     ]
    },
    {
     "name": "stdout",
     "output_type": "stream",
     "text": [
      "2022-05-06 22:13:04\t46Loss 0.3247 (0.3157)\tlr 0.05\n"
     ]
    },
    {
     "name": "stderr",
     "output_type": "stream",
     "text": [
      "100%|██████████| 187/187 [01:03<00:00,  3.20it/s]\n",
      "  0%|          | 0/187 [00:00<?, ?it/s]"
     ]
    },
    {
     "name": "stdout",
     "output_type": "stream",
     "text": [
      "2022-05-06 22:14:08\t47Loss 0.3345 (0.3157)\tlr 0.05\n"
     ]
    },
    {
     "name": "stderr",
     "output_type": "stream",
     "text": [
      "100%|██████████| 187/187 [01:03<00:00,  3.21it/s]\n",
      "  0%|          | 0/187 [00:00<?, ?it/s]"
     ]
    },
    {
     "name": "stdout",
     "output_type": "stream",
     "text": [
      "2022-05-06 22:15:12\t48Loss 0.3128 (0.3157)\tlr 0.05\n"
     ]
    },
    {
     "name": "stderr",
     "output_type": "stream",
     "text": [
      "100%|██████████| 187/187 [01:03<00:00,  3.20it/s]\n",
      "  0%|          | 0/187 [00:00<?, ?it/s]"
     ]
    },
    {
     "name": "stdout",
     "output_type": "stream",
     "text": [
      "2022-05-06 22:16:16\t49Loss 0.4088 (0.3157)\tlr 0.05\n"
     ]
    },
    {
     "name": "stderr",
     "output_type": "stream",
     "text": [
      "100%|██████████| 187/187 [01:03<00:00,  3.19it/s]\n",
      "  0%|          | 0/187 [00:00<?, ?it/s]"
     ]
    },
    {
     "name": "stdout",
     "output_type": "stream",
     "text": [
      "2022-05-06 22:17:19\t50Loss 0.3543 (0.3157)\tlr 0.025\n"
     ]
    },
    {
     "name": "stderr",
     "output_type": "stream",
     "text": [
      "100%|██████████| 187/187 [01:03<00:00,  3.20it/s]\n",
      "  0%|          | 0/187 [00:00<?, ?it/s]"
     ]
    },
    {
     "name": "stdout",
     "output_type": "stream",
     "text": [
      "2022-05-06 22:18:23\t51Loss 0.3978 (0.3157)\tlr 0.025\n"
     ]
    },
    {
     "name": "stderr",
     "output_type": "stream",
     "text": [
      "100%|██████████| 187/187 [01:03<00:00,  3.20it/s]\n",
      "  0%|          | 0/187 [00:00<?, ?it/s]"
     ]
    },
    {
     "name": "stdout",
     "output_type": "stream",
     "text": [
      "2022-05-06 22:19:27\t52Loss 0.3790 (0.3157)\tlr 0.025\n"
     ]
    },
    {
     "name": "stderr",
     "output_type": "stream",
     "text": [
      "100%|██████████| 187/187 [01:03<00:00,  3.20it/s]\n",
      "  0%|          | 0/187 [00:00<?, ?it/s]"
     ]
    },
    {
     "name": "stdout",
     "output_type": "stream",
     "text": [
      "2022-05-06 22:20:31\t53Loss 0.2423 (0.3157)\tlr 0.025\n"
     ]
    },
    {
     "name": "stderr",
     "output_type": "stream",
     "text": [
      "100%|██████████| 187/187 [01:03<00:00,  3.22it/s]\n",
      "  0%|          | 0/187 [00:00<?, ?it/s]"
     ]
    },
    {
     "name": "stdout",
     "output_type": "stream",
     "text": [
      "2022-05-06 22:21:35\t54Loss 0.3308 (0.3157)\tlr 0.025\n"
     ]
    },
    {
     "name": "stderr",
     "output_type": "stream",
     "text": [
      "100%|██████████| 187/187 [01:03<00:00,  3.21it/s]\n",
      "  0%|          | 0/187 [00:00<?, ?it/s]"
     ]
    },
    {
     "name": "stdout",
     "output_type": "stream",
     "text": [
      "2022-05-06 22:22:39\t55Loss 0.2235 (0.3157)\tlr 0.025\n"
     ]
    },
    {
     "name": "stderr",
     "output_type": "stream",
     "text": [
      "100%|██████████| 187/187 [01:03<00:00,  3.20it/s]\n",
      "  0%|          | 0/187 [00:00<?, ?it/s]"
     ]
    },
    {
     "name": "stdout",
     "output_type": "stream",
     "text": [
      "2022-05-06 22:23:42\t56Loss 0.3179 (0.3157)\tlr 0.025\n"
     ]
    },
    {
     "name": "stderr",
     "output_type": "stream",
     "text": [
      "100%|██████████| 187/187 [01:03<00:00,  3.19it/s]\n",
      "  0%|          | 0/187 [00:00<?, ?it/s]"
     ]
    },
    {
     "name": "stdout",
     "output_type": "stream",
     "text": [
      "2022-05-06 22:24:46\t57Loss 0.1814 (0.3157)\tlr 0.025\n"
     ]
    },
    {
     "name": "stderr",
     "output_type": "stream",
     "text": [
      "100%|██████████| 187/187 [01:03<00:00,  3.22it/s]\n",
      "  0%|          | 0/187 [00:00<?, ?it/s]"
     ]
    },
    {
     "name": "stdout",
     "output_type": "stream",
     "text": [
      "2022-05-06 22:25:50\t58Loss 0.3104 (0.3157)\tlr 0.025\n"
     ]
    },
    {
     "name": "stderr",
     "output_type": "stream",
     "text": [
      "100%|██████████| 187/187 [01:03<00:00,  3.21it/s]\n",
      "  0%|          | 0/187 [00:00<?, ?it/s]"
     ]
    },
    {
     "name": "stdout",
     "output_type": "stream",
     "text": [
      "2022-05-06 22:26:54\t59Loss 0.2951 (0.3157)\tlr 0.025\n"
     ]
    },
    {
     "name": "stderr",
     "output_type": "stream",
     "text": [
      "100%|██████████| 187/187 [01:03<00:00,  3.20it/s]\n",
      "  0%|          | 0/187 [00:00<?, ?it/s]"
     ]
    },
    {
     "name": "stdout",
     "output_type": "stream",
     "text": [
      "2022-05-06 22:27:58\t60Loss 0.4053 (0.3157)\tlr 0.025\n"
     ]
    },
    {
     "name": "stderr",
     "output_type": "stream",
     "text": [
      "100%|██████████| 187/187 [01:03<00:00,  3.19it/s]\n",
      "  0%|          | 0/187 [00:00<?, ?it/s]"
     ]
    },
    {
     "name": "stdout",
     "output_type": "stream",
     "text": [
      "2022-05-06 22:29:02\t61Loss 0.2617 (0.3157)\tlr 0.025\n"
     ]
    },
    {
     "name": "stderr",
     "output_type": "stream",
     "text": [
      "100%|██████████| 187/187 [01:03<00:00,  3.20it/s]\n",
      "  0%|          | 0/187 [00:00<?, ?it/s]"
     ]
    },
    {
     "name": "stdout",
     "output_type": "stream",
     "text": [
      "2022-05-06 22:30:05\t62Loss 0.3090 (0.3157)\tlr 0.025\n"
     ]
    },
    {
     "name": "stderr",
     "output_type": "stream",
     "text": [
      "100%|██████████| 187/187 [01:03<00:00,  3.21it/s]\n",
      "  0%|          | 0/187 [00:00<?, ?it/s]"
     ]
    },
    {
     "name": "stdout",
     "output_type": "stream",
     "text": [
      "2022-05-06 22:31:09\t63Loss 0.2257 (0.3157)\tlr 0.025\n"
     ]
    },
    {
     "name": "stderr",
     "output_type": "stream",
     "text": [
      "100%|██████████| 187/187 [01:03<00:00,  3.18it/s]\n",
      "  0%|          | 0/187 [00:00<?, ?it/s]"
     ]
    },
    {
     "name": "stdout",
     "output_type": "stream",
     "text": [
      "2022-05-06 22:32:13\t64Loss 0.3497 (0.3157)\tlr 0.025\n"
     ]
    },
    {
     "name": "stderr",
     "output_type": "stream",
     "text": [
      "100%|██████████| 187/187 [01:04<00:00,  3.19it/s]\n",
      "  0%|          | 0/187 [00:00<?, ?it/s]"
     ]
    },
    {
     "name": "stdout",
     "output_type": "stream",
     "text": [
      "2022-05-06 22:33:17\t65Loss 0.2780 (0.3157)\tlr 0.025\n"
     ]
    },
    {
     "name": "stderr",
     "output_type": "stream",
     "text": [
      "100%|██████████| 187/187 [01:03<00:00,  3.21it/s]\n",
      "  0%|          | 0/187 [00:00<?, ?it/s]"
     ]
    },
    {
     "name": "stdout",
     "output_type": "stream",
     "text": [
      "2022-05-06 22:34:21\t66Loss 0.2338 (0.3157)\tlr 0.025\n"
     ]
    },
    {
     "name": "stderr",
     "output_type": "stream",
     "text": [
      "100%|██████████| 187/187 [01:03<00:00,  3.20it/s]\n",
      "  0%|          | 0/187 [00:00<?, ?it/s]"
     ]
    },
    {
     "name": "stdout",
     "output_type": "stream",
     "text": [
      "2022-05-06 22:35:25\t67Loss 0.2365 (0.3157)\tlr 0.025\n"
     ]
    },
    {
     "name": "stderr",
     "output_type": "stream",
     "text": [
      "100%|██████████| 187/187 [01:03<00:00,  3.20it/s]\n",
      "  0%|          | 0/187 [00:00<?, ?it/s]"
     ]
    },
    {
     "name": "stdout",
     "output_type": "stream",
     "text": [
      "2022-05-06 22:36:29\t68Loss 0.4058 (0.3157)\tlr 0.025\n"
     ]
    },
    {
     "name": "stderr",
     "output_type": "stream",
     "text": [
      "100%|██████████| 187/187 [01:03<00:00,  3.19it/s]\n",
      "  0%|          | 0/187 [00:00<?, ?it/s]"
     ]
    },
    {
     "name": "stdout",
     "output_type": "stream",
     "text": [
      "2022-05-06 22:37:33\t69Loss 0.2890 (0.3157)\tlr 0.025\n"
     ]
    },
    {
     "name": "stderr",
     "output_type": "stream",
     "text": [
      "100%|██████████| 187/187 [01:03<00:00,  3.21it/s]\n",
      "  0%|          | 0/187 [00:00<?, ?it/s]"
     ]
    },
    {
     "name": "stdout",
     "output_type": "stream",
     "text": [
      "2022-05-06 22:38:37\t70Loss 0.3377 (0.3157)\tlr 0.025\n"
     ]
    },
    {
     "name": "stderr",
     "output_type": "stream",
     "text": [
      "100%|██████████| 187/187 [01:03<00:00,  3.19it/s]\n",
      "  0%|          | 0/187 [00:00<?, ?it/s]"
     ]
    },
    {
     "name": "stdout",
     "output_type": "stream",
     "text": [
      "2022-05-06 22:39:40\t71Loss 0.2161 (0.3157)\tlr 0.025\n"
     ]
    },
    {
     "name": "stderr",
     "output_type": "stream",
     "text": [
      "100%|██████████| 187/187 [01:03<00:00,  3.20it/s]\n",
      "  0%|          | 0/187 [00:00<?, ?it/s]"
     ]
    },
    {
     "name": "stdout",
     "output_type": "stream",
     "text": [
      "2022-05-06 22:40:44\t72Loss 0.3094 (0.3157)\tlr 0.025\n"
     ]
    },
    {
     "name": "stderr",
     "output_type": "stream",
     "text": [
      "100%|██████████| 187/187 [01:03<00:00,  3.20it/s]\n",
      "  0%|          | 0/187 [00:00<?, ?it/s]"
     ]
    },
    {
     "name": "stdout",
     "output_type": "stream",
     "text": [
      "2022-05-06 22:41:48\t73Loss 0.3740 (0.3157)\tlr 0.025\n"
     ]
    },
    {
     "name": "stderr",
     "output_type": "stream",
     "text": [
      "100%|██████████| 187/187 [01:03<00:00,  3.18it/s]\n",
      "  0%|          | 0/187 [00:00<?, ?it/s]"
     ]
    },
    {
     "name": "stdout",
     "output_type": "stream",
     "text": [
      "2022-05-06 22:42:52\t74Loss 0.1530 (0.3157)\tlr 0.025\n"
     ]
    },
    {
     "name": "stderr",
     "output_type": "stream",
     "text": [
      "100%|██████████| 187/187 [01:03<00:00,  3.19it/s]\n",
      "  0%|          | 0/187 [00:00<?, ?it/s]"
     ]
    },
    {
     "name": "stdout",
     "output_type": "stream",
     "text": [
      "2022-05-06 22:43:56\t75Loss 0.2827 (0.3157)\tlr 0.0125\n"
     ]
    },
    {
     "name": "stderr",
     "output_type": "stream",
     "text": [
      "100%|██████████| 187/187 [01:04<00:00,  3.19it/s]\n",
      "  0%|          | 0/187 [00:00<?, ?it/s]"
     ]
    },
    {
     "name": "stdout",
     "output_type": "stream",
     "text": [
      "2022-05-06 22:45:00\t76Loss 0.3417 (0.3157)\tlr 0.0125\n"
     ]
    },
    {
     "name": "stderr",
     "output_type": "stream",
     "text": [
      "100%|██████████| 187/187 [01:04<00:00,  3.18it/s]\n",
      "  0%|          | 0/187 [00:00<?, ?it/s]"
     ]
    },
    {
     "name": "stdout",
     "output_type": "stream",
     "text": [
      "2022-05-06 22:47:08\t78Loss 0.2830 (0.3157)\tlr 0.0125\n"
     ]
    },
    {
     "name": "stderr",
     "output_type": "stream",
     "text": [
      "100%|██████████| 187/187 [01:04<00:00,  3.19it/s]\n",
      "  0%|          | 0/187 [00:00<?, ?it/s]"
     ]
    },
    {
     "name": "stdout",
     "output_type": "stream",
     "text": [
      "2022-05-06 22:48:13\t79Loss 0.3192 (0.3157)\tlr 0.0125\n"
     ]
    },
    {
     "name": "stderr",
     "output_type": "stream",
     "text": [
      "100%|██████████| 187/187 [01:04<00:00,  3.16it/s]\n",
      "  0%|          | 0/187 [00:00<?, ?it/s]"
     ]
    },
    {
     "name": "stdout",
     "output_type": "stream",
     "text": [
      "2022-05-06 22:49:17\t80Loss 0.4840 (0.3157)\tlr 0.0125\n"
     ]
    },
    {
     "name": "stderr",
     "output_type": "stream",
     "text": [
      "100%|██████████| 187/187 [01:04<00:00,  3.19it/s]\n",
      "  0%|          | 0/187 [00:00<?, ?it/s]"
     ]
    },
    {
     "name": "stdout",
     "output_type": "stream",
     "text": [
      "2022-05-06 22:50:21\t81Loss 0.2509 (0.3157)\tlr 0.0125\n"
     ]
    },
    {
     "name": "stderr",
     "output_type": "stream",
     "text": [
      "100%|██████████| 187/187 [01:04<00:00,  3.19it/s]\n",
      "  0%|          | 0/187 [00:00<?, ?it/s]"
     ]
    },
    {
     "name": "stdout",
     "output_type": "stream",
     "text": [
      "2022-05-06 22:51:25\t82Loss 0.2425 (0.3157)\tlr 0.0125\n"
     ]
    },
    {
     "name": "stderr",
     "output_type": "stream",
     "text": [
      "100%|██████████| 187/187 [01:04<00:00,  3.18it/s]\n",
      "  0%|          | 0/187 [00:00<?, ?it/s]"
     ]
    },
    {
     "name": "stdout",
     "output_type": "stream",
     "text": [
      "2022-05-06 22:52:29\t83Loss 0.2852 (0.3157)\tlr 0.0125\n"
     ]
    },
    {
     "name": "stderr",
     "output_type": "stream",
     "text": [
      "100%|██████████| 187/187 [01:04<00:00,  3.15it/s]\n",
      "  0%|          | 0/187 [00:00<?, ?it/s]"
     ]
    },
    {
     "name": "stdout",
     "output_type": "stream",
     "text": [
      "2022-05-06 22:53:34\t84Loss 0.2737 (0.3157)\tlr 0.0125\n"
     ]
    },
    {
     "name": "stderr",
     "output_type": "stream",
     "text": [
      "100%|██████████| 187/187 [01:04<00:00,  3.17it/s]\n",
      "  0%|          | 0/187 [00:00<?, ?it/s]"
     ]
    },
    {
     "name": "stdout",
     "output_type": "stream",
     "text": [
      "2022-05-06 22:54:38\t85Loss 0.2657 (0.3157)\tlr 0.0125\n"
     ]
    },
    {
     "name": "stderr",
     "output_type": "stream",
     "text": [
      "100%|██████████| 187/187 [01:04<00:00,  3.18it/s]\n",
      "  0%|          | 0/187 [00:00<?, ?it/s]"
     ]
    },
    {
     "name": "stdout",
     "output_type": "stream",
     "text": [
      "2022-05-06 22:55:42\t86Loss 0.3832 (0.3157)\tlr 0.0125\n"
     ]
    },
    {
     "name": "stderr",
     "output_type": "stream",
     "text": [
      "100%|██████████| 187/187 [01:04<00:00,  3.18it/s]\n",
      "  0%|          | 0/187 [00:00<?, ?it/s]"
     ]
    },
    {
     "name": "stdout",
     "output_type": "stream",
     "text": [
      "2022-05-06 22:56:46\t87Loss 0.3096 (0.3157)\tlr 0.0125\n"
     ]
    },
    {
     "name": "stderr",
     "output_type": "stream",
     "text": [
      "100%|██████████| 187/187 [01:04<00:00,  3.18it/s]\n",
      "  0%|          | 0/187 [00:00<?, ?it/s]"
     ]
    },
    {
     "name": "stdout",
     "output_type": "stream",
     "text": [
      "2022-05-06 22:57:51\t88Loss 0.3315 (0.3157)\tlr 0.0125\n"
     ]
    },
    {
     "name": "stderr",
     "output_type": "stream",
     "text": [
      "100%|██████████| 187/187 [01:04<00:00,  3.18it/s]\n",
      "  0%|          | 0/187 [00:00<?, ?it/s]"
     ]
    },
    {
     "name": "stdout",
     "output_type": "stream",
     "text": [
      "2022-05-06 22:58:55\t89Loss 0.4092 (0.3157)\tlr 0.0125\n"
     ]
    },
    {
     "name": "stderr",
     "output_type": "stream",
     "text": [
      "100%|██████████| 187/187 [01:04<00:00,  3.18it/s]\n",
      "  0%|          | 0/187 [00:00<?, ?it/s]"
     ]
    },
    {
     "name": "stdout",
     "output_type": "stream",
     "text": [
      "2022-05-06 22:59:59\t90Loss 0.2596 (0.3157)\tlr 0.0125\n"
     ]
    },
    {
     "name": "stderr",
     "output_type": "stream",
     "text": [
      "100%|██████████| 187/187 [01:04<00:00,  3.17it/s]\n",
      "  0%|          | 0/187 [00:00<?, ?it/s]"
     ]
    },
    {
     "name": "stdout",
     "output_type": "stream",
     "text": [
      "2022-05-06 23:01:03\t91Loss 0.3378 (0.3157)\tlr 0.0125\n"
     ]
    },
    {
     "name": "stderr",
     "output_type": "stream",
     "text": [
      "100%|██████████| 187/187 [01:04<00:00,  3.17it/s]\n",
      "  0%|          | 0/187 [00:00<?, ?it/s]"
     ]
    },
    {
     "name": "stdout",
     "output_type": "stream",
     "text": [
      "2022-05-06 23:02:08\t92Loss 0.2479 (0.3157)\tlr 0.0125\n"
     ]
    },
    {
     "name": "stderr",
     "output_type": "stream",
     "text": [
      "100%|██████████| 187/187 [01:04<00:00,  3.17it/s]\n",
      "  0%|          | 0/187 [00:00<?, ?it/s]"
     ]
    },
    {
     "name": "stdout",
     "output_type": "stream",
     "text": [
      "2022-05-06 23:03:12\t93Loss 0.2408 (0.3157)\tlr 0.0125\n"
     ]
    },
    {
     "name": "stderr",
     "output_type": "stream",
     "text": [
      " 58%|█████▊    | 108/187 [00:37<00:27,  2.91it/s]IOPub message rate exceeded.\n",
      "The notebook server will temporarily stop sending output\n",
      "to the client in order to avoid crashing it.\n",
      "To change this limit, set the config variable\n",
      "`--NotebookApp.iopub_msg_rate_limit`.\n",
      "\n",
      "Current values:\n",
      "NotebookApp.iopub_msg_rate_limit=1000.0 (msgs/sec)\n",
      "NotebookApp.rate_limit_window=3.0 (secs)\n",
      "\n",
      "100%|██████████| 187/187 [01:12<00:00,  2.80it/s]\n",
      "  0%|          | 0/187 [00:00<?, ?it/s]"
     ]
    },
    {
     "name": "stdout",
     "output_type": "stream",
     "text": [
      "2022-05-06 23:25:09\t113Loss 0.3616 (0.3157)\tlr 0.00625\n"
     ]
    },
    {
     "name": "stderr",
     "output_type": "stream",
     "text": [
      "100%|██████████| 187/187 [01:06<00:00,  3.17it/s]\n",
      "  0%|          | 0/187 [00:00<?, ?it/s]"
     ]
    },
    {
     "name": "stdout",
     "output_type": "stream",
     "text": [
      "2022-05-06 23:26:15\t114Loss 0.2939 (0.3156)\tlr 0.00625\n"
     ]
    },
    {
     "name": "stderr",
     "output_type": "stream",
     "text": [
      "100%|██████████| 187/187 [01:04<00:00,  3.16it/s]\n",
      "  0%|          | 0/187 [00:00<?, ?it/s]"
     ]
    },
    {
     "name": "stdout",
     "output_type": "stream",
     "text": [
      "2022-05-06 23:27:20\t115Loss 0.1980 (0.3157)\tlr 0.00625\n"
     ]
    },
    {
     "name": "stderr",
     "output_type": "stream",
     "text": [
      "100%|██████████| 187/187 [01:06<00:00,  2.78it/s]\n",
      "  0%|          | 0/187 [00:00<?, ?it/s]"
     ]
    },
    {
     "name": "stdout",
     "output_type": "stream",
     "text": [
      "2022-05-06 23:28:26\t116Loss 0.2607 (0.3156)\tlr 0.00625\n"
     ]
    },
    {
     "name": "stderr",
     "output_type": "stream",
     "text": [
      "100%|██████████| 187/187 [01:13<00:00,  2.79it/s]\n",
      "  0%|          | 0/187 [00:00<?, ?it/s]"
     ]
    },
    {
     "name": "stdout",
     "output_type": "stream",
     "text": [
      "2022-05-06 23:29:39\t117Loss 0.3343 (0.3156)\tlr 0.00625\n"
     ]
    },
    {
     "name": "stderr",
     "output_type": "stream",
     "text": [
      "100%|██████████| 187/187 [01:12<00:00,  3.17it/s]\n",
      "  0%|          | 0/187 [00:00<?, ?it/s]"
     ]
    },
    {
     "name": "stdout",
     "output_type": "stream",
     "text": [
      "2022-05-06 23:30:52\t118Loss 0.4531 (0.3156)\tlr 0.00625\n"
     ]
    },
    {
     "name": "stderr",
     "output_type": "stream",
     "text": [
      "100%|██████████| 187/187 [01:04<00:00,  3.17it/s]\n",
      "  0%|          | 0/187 [00:00<?, ?it/s]"
     ]
    },
    {
     "name": "stdout",
     "output_type": "stream",
     "text": [
      "2022-05-06 23:31:56\t119Loss 0.3256 (0.3156)\tlr 0.00625\n"
     ]
    },
    {
     "name": "stderr",
     "output_type": "stream",
     "text": [
      "100%|██████████| 187/187 [01:04<00:00,  3.15it/s]\n",
      "  0%|          | 0/187 [00:00<?, ?it/s]"
     ]
    },
    {
     "name": "stdout",
     "output_type": "stream",
     "text": [
      "2022-05-06 23:33:01\t120Loss 0.3428 (0.3157)\tlr 0.00625\n"
     ]
    },
    {
     "name": "stderr",
     "output_type": "stream",
     "text": [
      "100%|██████████| 187/187 [01:04<00:00,  3.18it/s]\n",
      "  0%|          | 0/187 [00:00<?, ?it/s]"
     ]
    },
    {
     "name": "stdout",
     "output_type": "stream",
     "text": [
      "2022-05-06 23:34:05\t121Loss 0.2694 (0.3156)\tlr 0.00625\n"
     ]
    },
    {
     "name": "stderr",
     "output_type": "stream",
     "text": [
      "100%|██████████| 187/187 [01:04<00:00,  3.17it/s]\n",
      "  0%|          | 0/187 [00:00<?, ?it/s]"
     ]
    },
    {
     "name": "stdout",
     "output_type": "stream",
     "text": [
      "2022-05-06 23:35:10\t122Loss 0.2772 (0.3157)\tlr 0.00625\n"
     ]
    },
    {
     "name": "stderr",
     "output_type": "stream",
     "text": [
      "100%|██████████| 187/187 [01:04<00:00,  3.19it/s]\n",
      "  0%|          | 0/187 [00:00<?, ?it/s]"
     ]
    },
    {
     "name": "stdout",
     "output_type": "stream",
     "text": [
      "2022-05-06 23:36:14\t123Loss 0.3875 (0.3157)\tlr 0.00625\n"
     ]
    },
    {
     "name": "stderr",
     "output_type": "stream",
     "text": [
      "100%|██████████| 187/187 [01:03<00:00,  3.20it/s]\n",
      "  0%|          | 0/187 [00:00<?, ?it/s]"
     ]
    },
    {
     "name": "stdout",
     "output_type": "stream",
     "text": [
      "2022-05-06 23:37:18\t124Loss 0.3369 (0.3157)\tlr 0.00625\n"
     ]
    },
    {
     "name": "stderr",
     "output_type": "stream",
     "text": [
      "100%|██████████| 187/187 [01:03<00:00,  3.20it/s]\n",
      "  0%|          | 0/187 [00:00<?, ?it/s]"
     ]
    },
    {
     "name": "stdout",
     "output_type": "stream",
     "text": [
      "2022-05-06 23:38:22\t125Loss 0.3147 (0.3156)\tlr 0.003125\n"
     ]
    },
    {
     "name": "stderr",
     "output_type": "stream",
     "text": [
      "100%|██████████| 187/187 [01:03<00:00,  3.20it/s]\n",
      "  0%|          | 0/187 [00:00<?, ?it/s]"
     ]
    },
    {
     "name": "stdout",
     "output_type": "stream",
     "text": [
      "2022-05-06 23:39:26\t126Loss 0.3270 (0.3156)\tlr 0.003125\n"
     ]
    },
    {
     "name": "stderr",
     "output_type": "stream",
     "text": [
      "100%|██████████| 187/187 [01:06<00:00,  2.82it/s]\n",
      "  0%|          | 0/187 [00:00<?, ?it/s]"
     ]
    },
    {
     "name": "stdout",
     "output_type": "stream",
     "text": [
      "2022-05-06 23:40:32\t127Loss 0.3289 (0.3156)\tlr 0.003125\n"
     ]
    },
    {
     "name": "stderr",
     "output_type": "stream",
     "text": [
      "100%|██████████| 187/187 [01:12<00:00,  2.83it/s]\n",
      "  0%|          | 0/187 [00:00<?, ?it/s]"
     ]
    },
    {
     "name": "stdout",
     "output_type": "stream",
     "text": [
      "2022-05-06 23:41:44\t128Loss 0.3351 (0.3157)\tlr 0.003125\n"
     ]
    },
    {
     "name": "stderr",
     "output_type": "stream",
     "text": [
      "100%|██████████| 187/187 [01:11<00:00,  3.20it/s]\n",
      "  0%|          | 0/187 [00:00<?, ?it/s]"
     ]
    },
    {
     "name": "stdout",
     "output_type": "stream",
     "text": [
      "2022-05-06 23:42:55\t129Loss 0.3488 (0.3156)\tlr 0.003125\n"
     ]
    },
    {
     "name": "stderr",
     "output_type": "stream",
     "text": [
      "100%|██████████| 187/187 [01:03<00:00,  3.19it/s]\n",
      "  0%|          | 0/187 [00:00<?, ?it/s]"
     ]
    },
    {
     "name": "stdout",
     "output_type": "stream",
     "text": [
      "2022-05-06 23:43:59\t130Loss 0.2827 (0.3156)\tlr 0.003125\n"
     ]
    },
    {
     "name": "stderr",
     "output_type": "stream",
     "text": [
      "100%|██████████| 187/187 [01:03<00:00,  3.19it/s]\n",
      "  0%|          | 0/187 [00:00<?, ?it/s]"
     ]
    },
    {
     "name": "stdout",
     "output_type": "stream",
     "text": [
      "2022-05-06 23:45:03\t131Loss 0.2739 (0.3156)\tlr 0.003125\n"
     ]
    },
    {
     "name": "stderr",
     "output_type": "stream",
     "text": [
      "100%|██████████| 187/187 [01:04<00:00,  3.18it/s]\n",
      "  0%|          | 0/187 [00:00<?, ?it/s]"
     ]
    },
    {
     "name": "stdout",
     "output_type": "stream",
     "text": [
      "2022-05-06 23:46:07\t132Loss 0.3594 (0.3156)\tlr 0.003125\n"
     ]
    },
    {
     "name": "stderr",
     "output_type": "stream",
     "text": [
      "100%|██████████| 187/187 [01:04<00:00,  3.18it/s]\n",
      "  0%|          | 0/187 [00:00<?, ?it/s]"
     ]
    },
    {
     "name": "stdout",
     "output_type": "stream",
     "text": [
      "2022-05-06 23:47:11\t133Loss 0.2104 (0.3156)\tlr 0.003125\n"
     ]
    },
    {
     "name": "stderr",
     "output_type": "stream",
     "text": [
      "100%|██████████| 187/187 [01:10<00:00,  2.83it/s]\n",
      "  0%|          | 0/187 [00:00<?, ?it/s]"
     ]
    },
    {
     "name": "stdout",
     "output_type": "stream",
     "text": [
      "2022-05-06 23:48:22\t134Loss 0.2276 (0.3156)\tlr 0.003125\n"
     ]
    },
    {
     "name": "stderr",
     "output_type": "stream",
     "text": [
      "100%|██████████| 187/187 [01:12<00:00,  2.83it/s]\n",
      "  0%|          | 0/187 [00:00<?, ?it/s]"
     ]
    },
    {
     "name": "stdout",
     "output_type": "stream",
     "text": [
      "2022-05-06 23:49:34\t135Loss 0.4150 (0.3156)\tlr 0.003125\n"
     ]
    },
    {
     "name": "stderr",
     "output_type": "stream",
     "text": [
      "100%|██████████| 187/187 [01:12<00:00,  2.82it/s]\n",
      "  0%|          | 0/187 [00:00<?, ?it/s]"
     ]
    },
    {
     "name": "stdout",
     "output_type": "stream",
     "text": [
      "2022-05-06 23:50:46\t136Loss 0.2455 (0.3156)\tlr 0.003125\n"
     ]
    },
    {
     "name": "stderr",
     "output_type": "stream",
     "text": [
      "100%|██████████| 187/187 [01:12<00:00,  2.82it/s]\n",
      "  0%|          | 0/187 [00:00<?, ?it/s]"
     ]
    },
    {
     "name": "stdout",
     "output_type": "stream",
     "text": [
      "2022-05-06 23:51:58\t137Loss 0.3741 (0.3156)\tlr 0.003125\n"
     ]
    },
    {
     "name": "stderr",
     "output_type": "stream",
     "text": [
      "100%|██████████| 187/187 [01:12<00:00,  2.83it/s]\n",
      "  0%|          | 0/187 [00:00<?, ?it/s]"
     ]
    },
    {
     "name": "stdout",
     "output_type": "stream",
     "text": [
      "2022-05-06 23:53:10\t138Loss 0.4773 (0.3156)\tlr 0.003125\n"
     ]
    },
    {
     "name": "stderr",
     "output_type": "stream",
     "text": [
      "100%|██████████| 187/187 [01:04<00:00,  3.20it/s]\n",
      "  0%|          | 0/187 [00:00<?, ?it/s]"
     ]
    },
    {
     "name": "stdout",
     "output_type": "stream",
     "text": [
      "2022-05-06 23:54:14\t139Loss 0.2367 (0.3156)\tlr 0.003125\n"
     ]
    },
    {
     "name": "stderr",
     "output_type": "stream",
     "text": [
      "100%|██████████| 187/187 [01:03<00:00,  3.19it/s]\n",
      "  0%|          | 0/187 [00:00<?, ?it/s]"
     ]
    },
    {
     "name": "stdout",
     "output_type": "stream",
     "text": [
      "2022-05-06 23:55:18\t140Loss 0.3031 (0.3156)\tlr 0.003125\n"
     ]
    },
    {
     "name": "stderr",
     "output_type": "stream",
     "text": [
      "100%|██████████| 187/187 [01:06<00:00,  3.21it/s]\n",
      "  0%|          | 0/187 [00:00<?, ?it/s]"
     ]
    },
    {
     "name": "stdout",
     "output_type": "stream",
     "text": [
      "2022-05-06 23:56:25\t141Loss 0.3047 (0.3156)\tlr 0.003125\n"
     ]
    },
    {
     "name": "stderr",
     "output_type": "stream",
     "text": [
      "100%|██████████| 187/187 [01:03<00:00,  3.20it/s]\n",
      "  0%|          | 0/187 [00:00<?, ?it/s]"
     ]
    },
    {
     "name": "stdout",
     "output_type": "stream",
     "text": [
      "2022-05-06 23:57:29\t142Loss 0.3418 (0.3156)\tlr 0.003125\n"
     ]
    },
    {
     "name": "stderr",
     "output_type": "stream",
     "text": [
      "100%|██████████| 187/187 [01:03<00:00,  3.21it/s]\n",
      "  0%|          | 0/187 [00:00<?, ?it/s]"
     ]
    },
    {
     "name": "stdout",
     "output_type": "stream",
     "text": [
      "2022-05-06 23:58:33\t143Loss 0.2998 (0.3156)\tlr 0.003125\n"
     ]
    },
    {
     "name": "stderr",
     "output_type": "stream",
     "text": [
      "100%|██████████| 187/187 [01:03<00:00,  3.20it/s]\n",
      "  0%|          | 0/187 [00:00<?, ?it/s]"
     ]
    },
    {
     "name": "stdout",
     "output_type": "stream",
     "text": [
      "2022-05-06 23:59:37\t144Loss 0.3321 (0.3156)\tlr 0.003125\n"
     ]
    },
    {
     "name": "stderr",
     "output_type": "stream",
     "text": [
      "100%|██████████| 187/187 [01:03<00:00,  3.21it/s]\n",
      "  0%|          | 0/187 [00:00<?, ?it/s]"
     ]
    },
    {
     "name": "stdout",
     "output_type": "stream",
     "text": [
      "2022-05-07 00:00:40\t145Loss 0.3181 (0.3156)\tlr 0.003125\n"
     ]
    },
    {
     "name": "stderr",
     "output_type": "stream",
     "text": [
      "100%|██████████| 187/187 [01:03<00:00,  3.19it/s]\n",
      "  0%|          | 0/187 [00:00<?, ?it/s]"
     ]
    },
    {
     "name": "stdout",
     "output_type": "stream",
     "text": [
      "2022-05-07 00:01:44\t146Loss 0.2306 (0.3156)\tlr 0.003125\n"
     ]
    },
    {
     "name": "stderr",
     "output_type": "stream",
     "text": [
      "100%|██████████| 187/187 [01:03<00:00,  3.19it/s]\n",
      "  0%|          | 0/187 [00:00<?, ?it/s]"
     ]
    },
    {
     "name": "stdout",
     "output_type": "stream",
     "text": [
      "2022-05-07 00:02:48\t147Loss 0.2246 (0.3156)\tlr 0.003125\n"
     ]
    },
    {
     "name": "stderr",
     "output_type": "stream",
     "text": [
      "100%|██████████| 187/187 [01:03<00:00,  3.19it/s]\n",
      "  0%|          | 0/187 [00:00<?, ?it/s]"
     ]
    },
    {
     "name": "stdout",
     "output_type": "stream",
     "text": [
      "2022-05-07 00:03:52\t148Loss 0.2733 (0.3156)\tlr 0.003125\n"
     ]
    },
    {
     "name": "stderr",
     "output_type": "stream",
     "text": [
      "100%|██████████| 187/187 [01:03<00:00,  3.20it/s]\n",
      "  0%|          | 0/187 [00:00<?, ?it/s]"
     ]
    },
    {
     "name": "stdout",
     "output_type": "stream",
     "text": [
      "2022-05-07 00:04:56\t149Loss 0.2618 (0.3156)\tlr 0.003125\n"
     ]
    },
    {
     "name": "stderr",
     "output_type": "stream",
     "text": [
      "100%|██████████| 187/187 [01:04<00:00,  2.79it/s]\n",
      "  0%|          | 0/187 [00:00<?, ?it/s]"
     ]
    },
    {
     "name": "stdout",
     "output_type": "stream",
     "text": [
      "2022-05-07 00:06:01\t150Loss 0.4494 (0.3156)\tlr 0.0015625\n"
     ]
    },
    {
     "name": "stderr",
     "output_type": "stream",
     "text": [
      "100%|██████████| 187/187 [01:12<00:00,  2.83it/s]\n",
      "  0%|          | 0/187 [00:00<?, ?it/s]"
     ]
    },
    {
     "name": "stdout",
     "output_type": "stream",
     "text": [
      "2022-05-07 00:07:13\t151Loss 0.2288 (0.3156)\tlr 0.0015625\n"
     ]
    },
    {
     "name": "stderr",
     "output_type": "stream",
     "text": [
      "100%|██████████| 187/187 [01:12<00:00,  2.83it/s]\n",
      "  0%|          | 0/187 [00:00<?, ?it/s]"
     ]
    },
    {
     "name": "stdout",
     "output_type": "stream",
     "text": [
      "2022-05-07 00:08:25\t152Loss 0.2903 (0.3156)\tlr 0.0015625\n"
     ]
    },
    {
     "name": "stderr",
     "output_type": "stream",
     "text": [
      "100%|██████████| 187/187 [01:12<00:00,  2.82it/s]\n",
      "  0%|          | 0/187 [00:00<?, ?it/s]"
     ]
    },
    {
     "name": "stdout",
     "output_type": "stream",
     "text": [
      "2022-05-07 00:09:37\t153Loss 0.3441 (0.3156)\tlr 0.0015625\n"
     ]
    },
    {
     "name": "stderr",
     "output_type": "stream",
     "text": [
      "100%|██████████| 187/187 [01:12<00:00,  2.83it/s]\n",
      "  0%|          | 0/187 [00:00<?, ?it/s]"
     ]
    },
    {
     "name": "stdout",
     "output_type": "stream",
     "text": [
      "2022-05-07 00:10:49\t154Loss 0.3015 (0.3156)\tlr 0.0015625\n"
     ]
    },
    {
     "name": "stderr",
     "output_type": "stream",
     "text": [
      "100%|██████████| 187/187 [01:09<00:00,  3.20it/s]\n",
      "  0%|          | 0/187 [00:00<?, ?it/s]"
     ]
    },
    {
     "name": "stdout",
     "output_type": "stream",
     "text": [
      "2022-05-07 00:11:59\t155Loss 0.3560 (0.3156)\tlr 0.0015625\n"
     ]
    },
    {
     "name": "stderr",
     "output_type": "stream",
     "text": [
      "100%|██████████| 187/187 [01:03<00:00,  3.20it/s]\n",
      "  0%|          | 0/187 [00:00<?, ?it/s]"
     ]
    },
    {
     "name": "stdout",
     "output_type": "stream",
     "text": [
      "2022-05-07 00:13:03\t156Loss 0.4241 (0.3156)\tlr 0.0015625\n"
     ]
    },
    {
     "name": "stderr",
     "output_type": "stream",
     "text": [
      "100%|██████████| 187/187 [01:03<00:00,  3.19it/s]\n",
      "  0%|          | 0/187 [00:00<?, ?it/s]"
     ]
    },
    {
     "name": "stdout",
     "output_type": "stream",
     "text": [
      "2022-05-07 00:14:06\t157Loss 0.4716 (0.3156)\tlr 0.0015625\n"
     ]
    },
    {
     "name": "stderr",
     "output_type": "stream",
     "text": [
      "100%|██████████| 187/187 [01:03<00:00,  3.21it/s]\n",
      "  0%|          | 0/187 [00:00<?, ?it/s]"
     ]
    },
    {
     "name": "stdout",
     "output_type": "stream",
     "text": [
      "2022-05-07 00:15:10\t158Loss 0.3263 (0.3156)\tlr 0.0015625\n"
     ]
    },
    {
     "name": "stderr",
     "output_type": "stream",
     "text": [
      "100%|██████████| 187/187 [01:03<00:00,  3.20it/s]\n",
      "  0%|          | 0/187 [00:00<?, ?it/s]"
     ]
    },
    {
     "name": "stdout",
     "output_type": "stream",
     "text": [
      "2022-05-07 00:16:14\t159Loss 0.3126 (0.3156)\tlr 0.0015625\n"
     ]
    },
    {
     "name": "stderr",
     "output_type": "stream",
     "text": [
      "100%|██████████| 187/187 [01:03<00:00,  3.21it/s]\n",
      "  0%|          | 0/187 [00:00<?, ?it/s]"
     ]
    },
    {
     "name": "stdout",
     "output_type": "stream",
     "text": [
      "2022-05-07 00:17:18\t160Loss 0.3840 (0.3156)\tlr 0.0015625\n"
     ]
    },
    {
     "name": "stderr",
     "output_type": "stream",
     "text": [
      "100%|██████████| 187/187 [01:03<00:00,  3.21it/s]\n",
      "  0%|          | 0/187 [00:00<?, ?it/s]"
     ]
    },
    {
     "name": "stdout",
     "output_type": "stream",
     "text": [
      "2022-05-07 00:18:22\t161Loss 0.3398 (0.3156)\tlr 0.0015625\n"
     ]
    },
    {
     "name": "stderr",
     "output_type": "stream",
     "text": [
      "100%|██████████| 187/187 [01:03<00:00,  3.21it/s]\n",
      "  0%|          | 0/187 [00:00<?, ?it/s]"
     ]
    },
    {
     "name": "stdout",
     "output_type": "stream",
     "text": [
      "2022-05-07 00:19:26\t162Loss 0.3349 (0.3156)\tlr 0.0015625\n"
     ]
    },
    {
     "name": "stderr",
     "output_type": "stream",
     "text": [
      "100%|██████████| 187/187 [01:03<00:00,  3.21it/s]\n",
      "  0%|          | 0/187 [00:00<?, ?it/s]"
     ]
    },
    {
     "name": "stdout",
     "output_type": "stream",
     "text": [
      "2022-05-07 00:20:30\t163Loss 0.3141 (0.3156)\tlr 0.0015625\n"
     ]
    },
    {
     "name": "stderr",
     "output_type": "stream",
     "text": [
      "100%|██████████| 187/187 [01:03<00:00,  3.20it/s]\n",
      "  0%|          | 0/187 [00:00<?, ?it/s]"
     ]
    },
    {
     "name": "stdout",
     "output_type": "stream",
     "text": [
      "2022-05-07 00:21:33\t164Loss 0.2558 (0.3156)\tlr 0.0015625\n"
     ]
    },
    {
     "name": "stderr",
     "output_type": "stream",
     "text": [
      "100%|██████████| 187/187 [01:03<00:00,  3.20it/s]\n",
      "  0%|          | 0/187 [00:00<?, ?it/s]"
     ]
    },
    {
     "name": "stdout",
     "output_type": "stream",
     "text": [
      "2022-05-07 00:22:37\t165Loss 0.3628 (0.3157)\tlr 0.0015625\n"
     ]
    },
    {
     "name": "stderr",
     "output_type": "stream",
     "text": [
      "100%|██████████| 187/187 [01:03<00:00,  3.21it/s]\n",
      "  0%|          | 0/187 [00:00<?, ?it/s]"
     ]
    },
    {
     "name": "stdout",
     "output_type": "stream",
     "text": [
      "2022-05-07 00:23:41\t166Loss 0.3549 (0.3156)\tlr 0.0015625\n"
     ]
    },
    {
     "name": "stderr",
     "output_type": "stream",
     "text": [
      "100%|██████████| 187/187 [01:03<00:00,  3.22it/s]\n",
      "  0%|          | 0/187 [00:00<?, ?it/s]"
     ]
    },
    {
     "name": "stdout",
     "output_type": "stream",
     "text": [
      "2022-05-07 00:24:45\t167Loss 0.2920 (0.3156)\tlr 0.0015625\n"
     ]
    },
    {
     "name": "stderr",
     "output_type": "stream",
     "text": [
      "100%|██████████| 187/187 [01:03<00:00,  3.22it/s]\n",
      "  0%|          | 0/187 [00:00<?, ?it/s]"
     ]
    },
    {
     "name": "stdout",
     "output_type": "stream",
     "text": [
      "2022-05-07 00:25:48\t168Loss 0.4551 (0.3156)\tlr 0.0015625\n"
     ]
    },
    {
     "name": "stderr",
     "output_type": "stream",
     "text": [
      "100%|██████████| 187/187 [01:03<00:00,  3.20it/s]\n",
      "  0%|          | 0/187 [00:00<?, ?it/s]"
     ]
    },
    {
     "name": "stdout",
     "output_type": "stream",
     "text": [
      "2022-05-07 00:26:52\t169Loss 0.4263 (0.3156)\tlr 0.0015625\n"
     ]
    },
    {
     "name": "stderr",
     "output_type": "stream",
     "text": [
      "100%|██████████| 187/187 [01:03<00:00,  3.19it/s]\n",
      "  0%|          | 0/187 [00:00<?, ?it/s]"
     ]
    },
    {
     "name": "stdout",
     "output_type": "stream",
     "text": [
      "2022-05-07 00:27:56\t170Loss 0.2762 (0.3156)\tlr 0.0015625\n"
     ]
    },
    {
     "name": "stderr",
     "output_type": "stream",
     "text": [
      "100%|██████████| 187/187 [01:03<00:00,  3.19it/s]\n",
      "  0%|          | 0/187 [00:00<?, ?it/s]"
     ]
    },
    {
     "name": "stdout",
     "output_type": "stream",
     "text": [
      "2022-05-07 00:29:00\t171Loss 0.2569 (0.3156)\tlr 0.0015625\n"
     ]
    },
    {
     "name": "stderr",
     "output_type": "stream",
     "text": [
      "100%|██████████| 187/187 [01:04<00:00,  3.18it/s]\n",
      "  0%|          | 0/187 [00:00<?, ?it/s]"
     ]
    },
    {
     "name": "stdout",
     "output_type": "stream",
     "text": [
      "2022-05-07 00:30:04\t172Loss 0.3441 (0.3156)\tlr 0.0015625\n"
     ]
    },
    {
     "name": "stderr",
     "output_type": "stream",
     "text": [
      "100%|██████████| 187/187 [01:04<00:00,  3.19it/s]\n",
      "  0%|          | 0/187 [00:00<?, ?it/s]"
     ]
    },
    {
     "name": "stdout",
     "output_type": "stream",
     "text": [
      "2022-05-07 00:31:08\t173Loss 0.2333 (0.3156)\tlr 0.0015625\n"
     ]
    },
    {
     "name": "stderr",
     "output_type": "stream",
     "text": [
      "100%|██████████| 187/187 [01:04<00:00,  3.18it/s]\n",
      "  0%|          | 0/187 [00:00<?, ?it/s]"
     ]
    },
    {
     "name": "stdout",
     "output_type": "stream",
     "text": [
      "2022-05-07 00:32:13\t174Loss 0.3070 (0.3156)\tlr 0.0015625\n"
     ]
    },
    {
     "name": "stderr",
     "output_type": "stream",
     "text": [
      "100%|██████████| 187/187 [01:04<00:00,  3.19it/s]\n",
      "  0%|          | 0/187 [00:00<?, ?it/s]"
     ]
    },
    {
     "name": "stdout",
     "output_type": "stream",
     "text": [
      "2022-05-07 00:33:17\t175Loss 0.4118 (0.3156)\tlr 0.00078125\n"
     ]
    },
    {
     "name": "stderr",
     "output_type": "stream",
     "text": [
      "100%|██████████| 187/187 [01:04<00:00,  3.16it/s]\n",
      "  0%|          | 0/187 [00:00<?, ?it/s]"
     ]
    },
    {
     "name": "stdout",
     "output_type": "stream",
     "text": [
      "2022-05-07 00:34:21\t176Loss 0.3573 (0.3156)\tlr 0.00078125\n"
     ]
    },
    {
     "name": "stderr",
     "output_type": "stream",
     "text": [
      "100%|██████████| 187/187 [01:04<00:00,  3.19it/s]\n",
      "  0%|          | 0/187 [00:00<?, ?it/s]"
     ]
    },
    {
     "name": "stdout",
     "output_type": "stream",
     "text": [
      "2022-05-07 00:35:26\t177Loss 0.3098 (0.3156)\tlr 0.00078125\n"
     ]
    },
    {
     "name": "stderr",
     "output_type": "stream",
     "text": [
      "100%|██████████| 187/187 [01:04<00:00,  3.18it/s]\n",
      "  0%|          | 0/187 [00:00<?, ?it/s]"
     ]
    },
    {
     "name": "stdout",
     "output_type": "stream",
     "text": [
      "2022-05-07 00:36:30\t178Loss 0.4244 (0.3156)\tlr 0.00078125\n"
     ]
    },
    {
     "name": "stderr",
     "output_type": "stream",
     "text": [
      "100%|██████████| 187/187 [01:04<00:00,  3.18it/s]\n",
      "  0%|          | 0/187 [00:00<?, ?it/s]"
     ]
    },
    {
     "name": "stdout",
     "output_type": "stream",
     "text": [
      "2022-05-07 00:37:34\t179Loss 0.2282 (0.3156)\tlr 0.00078125\n"
     ]
    },
    {
     "name": "stderr",
     "output_type": "stream",
     "text": [
      "100%|██████████| 187/187 [01:04<00:00,  3.19it/s]\n",
      "  0%|          | 0/187 [00:00<?, ?it/s]"
     ]
    },
    {
     "name": "stdout",
     "output_type": "stream",
     "text": [
      "2022-05-07 00:38:38\t180Loss 0.2625 (0.3156)\tlr 0.00078125\n"
     ]
    },
    {
     "name": "stderr",
     "output_type": "stream",
     "text": [
      "100%|██████████| 187/187 [01:04<00:00,  3.18it/s]\n",
      "  0%|          | 0/187 [00:00<?, ?it/s]"
     ]
    },
    {
     "name": "stdout",
     "output_type": "stream",
     "text": [
      "2022-05-07 00:39:42\t181Loss 0.3354 (0.3156)\tlr 0.00078125\n"
     ]
    },
    {
     "name": "stderr",
     "output_type": "stream",
     "text": [
      "100%|██████████| 187/187 [01:04<00:00,  3.18it/s]\n",
      "  0%|          | 0/187 [00:00<?, ?it/s]"
     ]
    },
    {
     "name": "stdout",
     "output_type": "stream",
     "text": [
      "2022-05-07 00:40:46\t182Loss 0.1469 (0.3156)\tlr 0.00078125\n"
     ]
    },
    {
     "name": "stderr",
     "output_type": "stream",
     "text": [
      "100%|██████████| 187/187 [01:04<00:00,  3.18it/s]\n",
      "  0%|          | 0/187 [00:00<?, ?it/s]"
     ]
    },
    {
     "name": "stdout",
     "output_type": "stream",
     "text": [
      "2022-05-07 00:41:50\t183Loss 0.2476 (0.3156)\tlr 0.00078125\n"
     ]
    },
    {
     "name": "stderr",
     "output_type": "stream",
     "text": [
      "100%|██████████| 187/187 [01:04<00:00,  3.16it/s]\n",
      "  0%|          | 0/187 [00:00<?, ?it/s]"
     ]
    },
    {
     "name": "stdout",
     "output_type": "stream",
     "text": [
      "2022-05-07 00:42:55\t184Loss 0.2075 (0.3156)\tlr 0.00078125\n"
     ]
    },
    {
     "name": "stderr",
     "output_type": "stream",
     "text": [
      "100%|██████████| 187/187 [01:04<00:00,  3.19it/s]\n",
      "  0%|          | 0/187 [00:00<?, ?it/s]"
     ]
    },
    {
     "name": "stdout",
     "output_type": "stream",
     "text": [
      "2022-05-07 00:43:59\t185Loss 0.3451 (0.3156)\tlr 0.00078125\n"
     ]
    },
    {
     "name": "stderr",
     "output_type": "stream",
     "text": [
      "100%|██████████| 187/187 [01:04<00:00,  3.19it/s]\n",
      "  0%|          | 0/187 [00:00<?, ?it/s]"
     ]
    },
    {
     "name": "stdout",
     "output_type": "stream",
     "text": [
      "2022-05-07 00:45:03\t186Loss 0.2081 (0.3156)\tlr 0.00078125\n"
     ]
    },
    {
     "name": "stderr",
     "output_type": "stream",
     "text": [
      "100%|██████████| 187/187 [01:04<00:00,  3.18it/s]\n",
      "  0%|          | 0/187 [00:00<?, ?it/s]"
     ]
    },
    {
     "name": "stdout",
     "output_type": "stream",
     "text": [
      "2022-05-07 00:46:08\t187Loss 0.3899 (0.3156)\tlr 0.00078125\n"
     ]
    },
    {
     "name": "stderr",
     "output_type": "stream",
     "text": [
      "100%|██████████| 187/187 [01:04<00:00,  3.17it/s]\n",
      "  0%|          | 0/187 [00:00<?, ?it/s]"
     ]
    },
    {
     "name": "stdout",
     "output_type": "stream",
     "text": [
      "2022-05-07 00:47:12\t188Loss 0.2596 (0.3156)\tlr 0.00078125\n"
     ]
    },
    {
     "name": "stderr",
     "output_type": "stream",
     "text": [
      "100%|██████████| 187/187 [01:04<00:00,  3.17it/s]\n",
      "  0%|          | 0/187 [00:00<?, ?it/s]"
     ]
    },
    {
     "name": "stdout",
     "output_type": "stream",
     "text": [
      "2022-05-07 00:48:16\t189Loss 0.3413 (0.3156)\tlr 0.00078125\n"
     ]
    },
    {
     "name": "stderr",
     "output_type": "stream",
     "text": [
      "100%|██████████| 187/187 [01:04<00:00,  3.19it/s]\n",
      "  0%|          | 0/187 [00:00<?, ?it/s]"
     ]
    },
    {
     "name": "stdout",
     "output_type": "stream",
     "text": [
      "2022-05-07 00:49:20\t190Loss 0.1873 (0.3156)\tlr 0.00078125\n"
     ]
    },
    {
     "name": "stderr",
     "output_type": "stream",
     "text": [
      "100%|██████████| 187/187 [01:04<00:00,  3.17it/s]\n",
      "  0%|          | 0/187 [00:00<?, ?it/s]"
     ]
    },
    {
     "name": "stdout",
     "output_type": "stream",
     "text": [
      "2022-05-07 00:50:25\t191Loss 0.3783 (0.3156)\tlr 0.00078125\n"
     ]
    },
    {
     "name": "stderr",
     "output_type": "stream",
     "text": [
      "100%|██████████| 187/187 [01:04<00:00,  3.18it/s]\n",
      "  0%|          | 0/187 [00:00<?, ?it/s]"
     ]
    },
    {
     "name": "stdout",
     "output_type": "stream",
     "text": [
      "2022-05-07 00:51:29\t192Loss 0.4060 (0.3156)\tlr 0.00078125\n"
     ]
    },
    {
     "name": "stderr",
     "output_type": "stream",
     "text": [
      "100%|██████████| 187/187 [01:04<00:00,  3.19it/s]\n",
      "  0%|          | 0/187 [00:00<?, ?it/s]"
     ]
    },
    {
     "name": "stdout",
     "output_type": "stream",
     "text": [
      "2022-05-07 00:52:33\t193Loss 0.3228 (0.3156)\tlr 0.00078125\n"
     ]
    },
    {
     "name": "stderr",
     "output_type": "stream",
     "text": [
      "100%|██████████| 187/187 [01:04<00:00,  3.18it/s]\n",
      "  0%|          | 0/187 [00:00<?, ?it/s]"
     ]
    },
    {
     "name": "stdout",
     "output_type": "stream",
     "text": [
      "2022-05-07 00:53:38\t194Loss 0.3880 (0.3156)\tlr 0.00078125\n"
     ]
    },
    {
     "name": "stderr",
     "output_type": "stream",
     "text": [
      "100%|██████████| 187/187 [01:04<00:00,  3.17it/s]\n",
      "  0%|          | 0/187 [00:00<?, ?it/s]"
     ]
    },
    {
     "name": "stdout",
     "output_type": "stream",
     "text": [
      "2022-05-07 00:54:42\t195Loss 0.4463 (0.3156)\tlr 0.00078125\n"
     ]
    },
    {
     "name": "stderr",
     "output_type": "stream",
     "text": [
      "100%|██████████| 187/187 [01:04<00:00,  3.18it/s]\n",
      "  0%|          | 0/187 [00:00<?, ?it/s]"
     ]
    },
    {
     "name": "stdout",
     "output_type": "stream",
     "text": [
      "2022-05-07 00:55:46\t196Loss 0.3880 (0.3156)\tlr 0.00078125\n"
     ]
    },
    {
     "name": "stderr",
     "output_type": "stream",
     "text": [
      "100%|██████████| 187/187 [01:04<00:00,  3.18it/s]\n",
      "  0%|          | 0/187 [00:00<?, ?it/s]"
     ]
    },
    {
     "name": "stdout",
     "output_type": "stream",
     "text": [
      "2022-05-07 00:56:51\t197Loss 0.4412 (0.3156)\tlr 0.00078125\n"
     ]
    },
    {
     "name": "stderr",
     "output_type": "stream",
     "text": [
      "100%|██████████| 187/187 [01:04<00:00,  3.18it/s]\n",
      "  0%|          | 0/187 [00:00<?, ?it/s]"
     ]
    },
    {
     "name": "stdout",
     "output_type": "stream",
     "text": [
      "2022-05-07 00:57:55\t198Loss 0.4067 (0.3156)\tlr 0.00078125\n"
     ]
    },
    {
     "name": "stderr",
     "output_type": "stream",
     "text": [
      "100%|██████████| 187/187 [01:04<00:00,  3.17it/s]\n",
      "  0%|          | 0/187 [00:00<?, ?it/s]"
     ]
    },
    {
     "name": "stdout",
     "output_type": "stream",
     "text": [
      "2022-05-07 00:58:59\t199Loss 0.1996 (0.3156)\tlr 0.00078125\n"
     ]
    },
    {
     "name": "stderr",
     "output_type": "stream",
     "text": [
      "100%|██████████| 187/187 [01:04<00:00,  3.17it/s]\n",
      "  0%|          | 0/187 [00:00<?, ?it/s]"
     ]
    },
    {
     "name": "stdout",
     "output_type": "stream",
     "text": [
      "2022-05-07 01:00:04\t200Loss 0.3666 (0.3157)\tlr 0.000390625\n"
     ]
    },
    {
     "name": "stderr",
     "output_type": "stream",
     "text": [
      "100%|██████████| 187/187 [01:04<00:00,  3.15it/s]\n",
      "  0%|          | 0/187 [00:00<?, ?it/s]"
     ]
    },
    {
     "name": "stdout",
     "output_type": "stream",
     "text": [
      "2022-05-07 01:01:08\t201Loss 0.4303 (0.3156)\tlr 0.000390625\n"
     ]
    },
    {
     "name": "stderr",
     "output_type": "stream",
     "text": [
      "100%|██████████| 187/187 [01:04<00:00,  3.17it/s]\n",
      "  0%|          | 0/187 [00:00<?, ?it/s]"
     ]
    },
    {
     "name": "stdout",
     "output_type": "stream",
     "text": [
      "2022-05-07 01:02:12\t202Loss 0.3381 (0.3156)\tlr 0.000390625\n"
     ]
    },
    {
     "name": "stderr",
     "output_type": "stream",
     "text": [
      "100%|██████████| 187/187 [01:04<00:00,  3.18it/s]\n",
      "  0%|          | 0/187 [00:00<?, ?it/s]"
     ]
    },
    {
     "name": "stdout",
     "output_type": "stream",
     "text": [
      "2022-05-07 01:03:16\t203Loss 0.3071 (0.3156)\tlr 0.000390625\n"
     ]
    },
    {
     "name": "stderr",
     "output_type": "stream",
     "text": [
      "100%|██████████| 187/187 [01:04<00:00,  3.18it/s]\n",
      "  0%|          | 0/187 [00:00<?, ?it/s]"
     ]
    },
    {
     "name": "stdout",
     "output_type": "stream",
     "text": [
      "2022-05-07 01:04:20\t204Loss 0.3526 (0.3157)\tlr 0.000390625\n"
     ]
    },
    {
     "name": "stderr",
     "output_type": "stream",
     "text": [
      "100%|██████████| 187/187 [01:04<00:00,  3.19it/s]\n",
      "  0%|          | 0/187 [00:00<?, ?it/s]"
     ]
    },
    {
     "name": "stdout",
     "output_type": "stream",
     "text": [
      "2022-05-07 01:05:24\t205Loss 0.3141 (0.3156)\tlr 0.000390625\n"
     ]
    },
    {
     "name": "stderr",
     "output_type": "stream",
     "text": [
      "100%|██████████| 187/187 [01:04<00:00,  3.19it/s]\n",
      "  0%|          | 0/187 [00:00<?, ?it/s]"
     ]
    },
    {
     "name": "stdout",
     "output_type": "stream",
     "text": [
      "2022-05-07 01:06:29\t206Loss 0.3749 (0.3156)\tlr 0.000390625\n"
     ]
    },
    {
     "name": "stderr",
     "output_type": "stream",
     "text": [
      "100%|██████████| 187/187 [01:04<00:00,  3.19it/s]\n",
      "  0%|          | 0/187 [00:00<?, ?it/s]"
     ]
    },
    {
     "name": "stdout",
     "output_type": "stream",
     "text": [
      "2022-05-07 01:07:33\t207Loss 0.2490 (0.3156)\tlr 0.000390625\n"
     ]
    },
    {
     "name": "stderr",
     "output_type": "stream",
     "text": [
      "100%|██████████| 187/187 [01:04<00:00,  3.18it/s]\n",
      "  0%|          | 0/187 [00:00<?, ?it/s]"
     ]
    },
    {
     "name": "stdout",
     "output_type": "stream",
     "text": [
      "2022-05-07 01:08:37\t208Loss 0.2298 (0.3156)\tlr 0.000390625\n"
     ]
    },
    {
     "name": "stderr",
     "output_type": "stream",
     "text": [
      "100%|██████████| 187/187 [01:04<00:00,  3.17it/s]\n",
      "  0%|          | 0/187 [00:00<?, ?it/s]"
     ]
    },
    {
     "name": "stdout",
     "output_type": "stream",
     "text": [
      "2022-05-07 01:09:41\t209Loss 0.2799 (0.3156)\tlr 0.000390625\n"
     ]
    },
    {
     "name": "stderr",
     "output_type": "stream",
     "text": [
      "100%|██████████| 187/187 [01:04<00:00,  3.18it/s]\n",
      "  0%|          | 0/187 [00:00<?, ?it/s]"
     ]
    },
    {
     "name": "stdout",
     "output_type": "stream",
     "text": [
      "2022-05-07 01:10:46\t210Loss 0.4271 (0.3156)\tlr 0.000390625\n"
     ]
    },
    {
     "name": "stderr",
     "output_type": "stream",
     "text": [
      "100%|██████████| 187/187 [01:04<00:00,  3.17it/s]\n",
      "  0%|          | 0/187 [00:00<?, ?it/s]"
     ]
    },
    {
     "name": "stdout",
     "output_type": "stream",
     "text": [
      "2022-05-07 01:11:50\t211Loss 0.2563 (0.3156)\tlr 0.000390625\n"
     ]
    },
    {
     "name": "stderr",
     "output_type": "stream",
     "text": [
      "100%|██████████| 187/187 [01:04<00:00,  3.18it/s]\n",
      "  0%|          | 0/187 [00:00<?, ?it/s]"
     ]
    },
    {
     "name": "stdout",
     "output_type": "stream",
     "text": [
      "2022-05-07 01:12:54\t212Loss 0.3017 (0.3156)\tlr 0.000390625\n"
     ]
    },
    {
     "name": "stderr",
     "output_type": "stream",
     "text": [
      "100%|██████████| 187/187 [01:04<00:00,  3.18it/s]\n",
      "  0%|          | 0/187 [00:00<?, ?it/s]"
     ]
    },
    {
     "name": "stdout",
     "output_type": "stream",
     "text": [
      "2022-05-07 01:13:59\t213Loss 0.3131 (0.3156)\tlr 0.000390625\n"
     ]
    },
    {
     "name": "stderr",
     "output_type": "stream",
     "text": [
      "100%|██████████| 187/187 [01:04<00:00,  3.17it/s]\n",
      "  0%|          | 0/187 [00:00<?, ?it/s]"
     ]
    },
    {
     "name": "stdout",
     "output_type": "stream",
     "text": [
      "2022-05-07 01:15:03\t214Loss 0.2706 (0.3156)\tlr 0.000390625\n"
     ]
    },
    {
     "name": "stderr",
     "output_type": "stream",
     "text": [
      "100%|██████████| 187/187 [01:04<00:00,  3.17it/s]\n",
      "  0%|          | 0/187 [00:00<?, ?it/s]"
     ]
    },
    {
     "name": "stdout",
     "output_type": "stream",
     "text": [
      "2022-05-07 01:16:08\t215Loss 0.2515 (0.3156)\tlr 0.000390625\n"
     ]
    },
    {
     "name": "stderr",
     "output_type": "stream",
     "text": [
      "100%|██████████| 187/187 [01:04<00:00,  3.19it/s]\n",
      "  0%|          | 0/187 [00:00<?, ?it/s]"
     ]
    },
    {
     "name": "stdout",
     "output_type": "stream",
     "text": [
      "2022-05-07 01:17:12\t216Loss 0.3328 (0.3156)\tlr 0.000390625\n"
     ]
    },
    {
     "name": "stderr",
     "output_type": "stream",
     "text": [
      "100%|██████████| 187/187 [01:04<00:00,  3.19it/s]\n",
      "  0%|          | 0/187 [00:00<?, ?it/s]"
     ]
    },
    {
     "name": "stdout",
     "output_type": "stream",
     "text": [
      "2022-05-07 01:18:16\t217Loss 0.3659 (0.3156)\tlr 0.000390625\n"
     ]
    },
    {
     "name": "stderr",
     "output_type": "stream",
     "text": [
      "100%|██████████| 187/187 [01:04<00:00,  3.19it/s]\n",
      "  0%|          | 0/187 [00:00<?, ?it/s]"
     ]
    },
    {
     "name": "stdout",
     "output_type": "stream",
     "text": [
      "2022-05-07 01:19:20\t218Loss 0.2757 (0.3156)\tlr 0.000390625\n"
     ]
    },
    {
     "name": "stderr",
     "output_type": "stream",
     "text": [
      "100%|██████████| 187/187 [01:04<00:00,  3.19it/s]\n",
      "  0%|          | 0/187 [00:00<?, ?it/s]"
     ]
    },
    {
     "name": "stdout",
     "output_type": "stream",
     "text": [
      "2022-05-07 01:20:24\t219Loss 0.2793 (0.3156)\tlr 0.000390625\n"
     ]
    },
    {
     "name": "stderr",
     "output_type": "stream",
     "text": [
      "100%|██████████| 187/187 [01:04<00:00,  3.18it/s]\n",
      "  0%|          | 0/187 [00:00<?, ?it/s]"
     ]
    },
    {
     "name": "stdout",
     "output_type": "stream",
     "text": [
      "2022-05-07 01:21:28\t220Loss 0.2852 (0.3156)\tlr 0.000390625\n"
     ]
    },
    {
     "name": "stderr",
     "output_type": "stream",
     "text": [
      "100%|██████████| 187/187 [01:04<00:00,  3.19it/s]\n",
      "  0%|          | 0/187 [00:00<?, ?it/s]"
     ]
    },
    {
     "name": "stdout",
     "output_type": "stream",
     "text": [
      "2022-05-07 01:22:32\t221Loss 0.3072 (0.3156)\tlr 0.000390625\n"
     ]
    },
    {
     "name": "stderr",
     "output_type": "stream",
     "text": [
      "100%|██████████| 187/187 [01:04<00:00,  3.18it/s]\n",
      "  0%|          | 0/187 [00:00<?, ?it/s]"
     ]
    },
    {
     "name": "stdout",
     "output_type": "stream",
     "text": [
      "2022-05-07 01:23:36\t222Loss 0.3452 (0.3156)\tlr 0.000390625\n"
     ]
    },
    {
     "name": "stderr",
     "output_type": "stream",
     "text": [
      "100%|██████████| 187/187 [01:04<00:00,  3.19it/s]\n",
      "  0%|          | 0/187 [00:00<?, ?it/s]"
     ]
    },
    {
     "name": "stdout",
     "output_type": "stream",
     "text": [
      "2022-05-07 01:24:41\t223Loss 0.3154 (0.3156)\tlr 0.000390625\n"
     ]
    },
    {
     "name": "stderr",
     "output_type": "stream",
     "text": [
      "100%|██████████| 187/187 [01:04<00:00,  3.17it/s]\n",
      "  0%|          | 0/187 [00:00<?, ?it/s]"
     ]
    },
    {
     "name": "stdout",
     "output_type": "stream",
     "text": [
      "2022-05-07 01:25:45\t224Loss 0.3551 (0.3156)\tlr 0.000390625\n"
     ]
    },
    {
     "name": "stderr",
     "output_type": "stream",
     "text": [
      "100%|██████████| 187/187 [01:04<00:00,  3.17it/s]\n",
      "  0%|          | 0/187 [00:00<?, ?it/s]"
     ]
    },
    {
     "name": "stdout",
     "output_type": "stream",
     "text": [
      "2022-05-07 01:26:49\t225Loss 0.2246 (0.3156)\tlr 0.0001953125\n"
     ]
    },
    {
     "name": "stderr",
     "output_type": "stream",
     "text": [
      "100%|██████████| 187/187 [01:04<00:00,  3.16it/s]\n",
      "  0%|          | 0/187 [00:00<?, ?it/s]"
     ]
    },
    {
     "name": "stdout",
     "output_type": "stream",
     "text": [
      "2022-05-07 01:27:53\t226Loss 0.2822 (0.3156)\tlr 0.0001953125\n"
     ]
    },
    {
     "name": "stderr",
     "output_type": "stream",
     "text": [
      "100%|██████████| 187/187 [01:04<00:00,  3.17it/s]\n",
      "  0%|          | 0/187 [00:00<?, ?it/s]"
     ]
    },
    {
     "name": "stdout",
     "output_type": "stream",
     "text": [
      "2022-05-07 01:28:57\t227Loss 0.2558 (0.3156)\tlr 0.0001953125\n"
     ]
    },
    {
     "name": "stderr",
     "output_type": "stream",
     "text": [
      "100%|██████████| 187/187 [01:04<00:00,  3.17it/s]\n",
      "  0%|          | 0/187 [00:00<?, ?it/s]"
     ]
    },
    {
     "name": "stdout",
     "output_type": "stream",
     "text": [
      "2022-05-07 01:30:02\t228Loss 0.2382 (0.3156)\tlr 0.0001953125\n"
     ]
    },
    {
     "name": "stderr",
     "output_type": "stream",
     "text": [
      "100%|██████████| 187/187 [01:04<00:00,  3.17it/s]\n",
      "  0%|          | 0/187 [00:00<?, ?it/s]"
     ]
    },
    {
     "name": "stdout",
     "output_type": "stream",
     "text": [
      "2022-05-07 01:31:06\t229Loss 0.3119 (0.3156)\tlr 0.0001953125\n"
     ]
    },
    {
     "name": "stderr",
     "output_type": "stream",
     "text": [
      "100%|██████████| 187/187 [01:04<00:00,  3.18it/s]\n",
      "  0%|          | 0/187 [00:00<?, ?it/s]"
     ]
    },
    {
     "name": "stdout",
     "output_type": "stream",
     "text": [
      "2022-05-07 01:32:11\t230Loss 0.3207 (0.3156)\tlr 0.0001953125\n"
     ]
    },
    {
     "name": "stderr",
     "output_type": "stream",
     "text": [
      "100%|██████████| 187/187 [01:04<00:00,  3.16it/s]\n",
      "  0%|          | 0/187 [00:00<?, ?it/s]"
     ]
    },
    {
     "name": "stdout",
     "output_type": "stream",
     "text": [
      "2022-05-07 01:33:15\t231Loss 0.2333 (0.3156)\tlr 0.0001953125\n"
     ]
    },
    {
     "name": "stderr",
     "output_type": "stream",
     "text": [
      "100%|██████████| 187/187 [01:04<00:00,  3.17it/s]\n",
      "  0%|          | 0/187 [00:00<?, ?it/s]"
     ]
    },
    {
     "name": "stdout",
     "output_type": "stream",
     "text": [
      "2022-05-07 01:34:19\t232Loss 0.2427 (0.3156)\tlr 0.0001953125\n"
     ]
    },
    {
     "name": "stderr",
     "output_type": "stream",
     "text": [
      "100%|██████████| 187/187 [01:04<00:00,  3.18it/s]\n",
      "  0%|          | 0/187 [00:00<?, ?it/s]"
     ]
    },
    {
     "name": "stdout",
     "output_type": "stream",
     "text": [
      "2022-05-07 01:35:24\t233Loss 0.3407 (0.3156)\tlr 0.0001953125\n"
     ]
    },
    {
     "name": "stderr",
     "output_type": "stream",
     "text": [
      "100%|██████████| 187/187 [01:04<00:00,  3.19it/s]\n",
      "  0%|          | 0/187 [00:00<?, ?it/s]"
     ]
    },
    {
     "name": "stdout",
     "output_type": "stream",
     "text": [
      "2022-05-07 01:36:28\t234Loss 0.3243 (0.3156)\tlr 0.0001953125\n"
     ]
    },
    {
     "name": "stderr",
     "output_type": "stream",
     "text": [
      "100%|██████████| 187/187 [01:04<00:00,  3.18it/s]\n",
      "  0%|          | 0/187 [00:00<?, ?it/s]"
     ]
    },
    {
     "name": "stdout",
     "output_type": "stream",
     "text": [
      "2022-05-07 01:37:32\t235Loss 0.3121 (0.3156)\tlr 0.0001953125\n"
     ]
    },
    {
     "name": "stderr",
     "output_type": "stream",
     "text": [
      "100%|██████████| 187/187 [01:04<00:00,  3.18it/s]\n",
      "  0%|          | 0/187 [00:00<?, ?it/s]"
     ]
    },
    {
     "name": "stdout",
     "output_type": "stream",
     "text": [
      "2022-05-07 01:38:37\t236Loss 0.3234 (0.3156)\tlr 0.0001953125\n"
     ]
    },
    {
     "name": "stderr",
     "output_type": "stream",
     "text": [
      "100%|██████████| 187/187 [01:04<00:00,  3.19it/s]\n",
      "  0%|          | 0/187 [00:00<?, ?it/s]"
     ]
    },
    {
     "name": "stdout",
     "output_type": "stream",
     "text": [
      "2022-05-07 01:39:41\t237Loss 0.3609 (0.3156)\tlr 0.0001953125\n"
     ]
    },
    {
     "name": "stderr",
     "output_type": "stream",
     "text": [
      "100%|██████████| 187/187 [01:04<00:00,  3.19it/s]\n",
      "  0%|          | 0/187 [00:00<?, ?it/s]"
     ]
    },
    {
     "name": "stdout",
     "output_type": "stream",
     "text": [
      "2022-05-07 01:40:45\t238Loss 0.2552 (0.3156)\tlr 0.0001953125\n"
     ]
    },
    {
     "name": "stderr",
     "output_type": "stream",
     "text": [
      "100%|██████████| 187/187 [01:04<00:00,  3.19it/s]\n",
      "  0%|          | 0/187 [00:00<?, ?it/s]"
     ]
    },
    {
     "name": "stdout",
     "output_type": "stream",
     "text": [
      "2022-05-07 01:41:49\t239Loss 0.4391 (0.3156)\tlr 0.0001953125\n"
     ]
    },
    {
     "name": "stderr",
     "output_type": "stream",
     "text": [
      "100%|██████████| 187/187 [01:04<00:00,  3.18it/s]\n",
      "  0%|          | 0/187 [00:00<?, ?it/s]"
     ]
    },
    {
     "name": "stdout",
     "output_type": "stream",
     "text": [
      "2022-05-07 01:42:53\t240Loss 0.3818 (0.3156)\tlr 0.0001953125\n"
     ]
    },
    {
     "name": "stderr",
     "output_type": "stream",
     "text": [
      "100%|██████████| 187/187 [01:04<00:00,  3.19it/s]\n",
      "  0%|          | 0/187 [00:00<?, ?it/s]"
     ]
    },
    {
     "name": "stdout",
     "output_type": "stream",
     "text": [
      "2022-05-07 01:43:58\t241Loss 0.4371 (0.3156)\tlr 0.0001953125\n"
     ]
    },
    {
     "name": "stderr",
     "output_type": "stream",
     "text": [
      "100%|██████████| 187/187 [01:04<00:00,  3.17it/s]\n",
      "  0%|          | 0/187 [00:00<?, ?it/s]"
     ]
    },
    {
     "name": "stdout",
     "output_type": "stream",
     "text": [
      "2022-05-07 01:45:02\t242Loss 0.3977 (0.3156)\tlr 0.0001953125\n"
     ]
    },
    {
     "name": "stderr",
     "output_type": "stream",
     "text": [
      "100%|██████████| 187/187 [01:04<00:00,  3.18it/s]\n",
      "  0%|          | 0/187 [00:00<?, ?it/s]"
     ]
    },
    {
     "name": "stdout",
     "output_type": "stream",
     "text": [
      "2022-05-07 01:46:06\t243Loss 0.3896 (0.3156)\tlr 0.0001953125\n"
     ]
    },
    {
     "name": "stderr",
     "output_type": "stream",
     "text": [
      "100%|██████████| 187/187 [01:04<00:00,  3.19it/s]\n",
      "  0%|          | 0/187 [00:00<?, ?it/s]"
     ]
    },
    {
     "name": "stdout",
     "output_type": "stream",
     "text": [
      "2022-05-07 01:47:11\t244Loss 0.3075 (0.3156)\tlr 0.0001953125\n"
     ]
    },
    {
     "name": "stderr",
     "output_type": "stream",
     "text": [
      "100%|██████████| 187/187 [01:04<00:00,  3.18it/s]\n",
      "  0%|          | 0/187 [00:00<?, ?it/s]"
     ]
    },
    {
     "name": "stdout",
     "output_type": "stream",
     "text": [
      "2022-05-07 01:48:15\t245Loss 0.3496 (0.3156)\tlr 0.0001953125\n"
     ]
    },
    {
     "name": "stderr",
     "output_type": "stream",
     "text": [
      "100%|██████████| 187/187 [01:04<00:00,  3.19it/s]\n",
      "  0%|          | 0/187 [00:00<?, ?it/s]"
     ]
    },
    {
     "name": "stdout",
     "output_type": "stream",
     "text": [
      "2022-05-07 01:49:19\t246Loss 0.1791 (0.3156)\tlr 0.0001953125\n"
     ]
    },
    {
     "name": "stderr",
     "output_type": "stream",
     "text": [
      "100%|██████████| 187/187 [01:04<00:00,  3.17it/s]\n",
      "  0%|          | 0/187 [00:00<?, ?it/s]"
     ]
    },
    {
     "name": "stdout",
     "output_type": "stream",
     "text": [
      "2022-05-07 01:50:24\t247Loss 0.3274 (0.3156)\tlr 0.0001953125\n"
     ]
    },
    {
     "name": "stderr",
     "output_type": "stream",
     "text": [
      "100%|██████████| 187/187 [01:04<00:00,  3.17it/s]\n",
      "  0%|          | 0/187 [00:00<?, ?it/s]"
     ]
    },
    {
     "name": "stdout",
     "output_type": "stream",
     "text": [
      "2022-05-07 01:51:28\t248Loss 0.2390 (0.3156)\tlr 0.0001953125\n"
     ]
    },
    {
     "name": "stderr",
     "output_type": "stream",
     "text": [
      "100%|██████████| 187/187 [01:04<00:00,  3.18it/s]"
     ]
    },
    {
     "name": "stdout",
     "output_type": "stream",
     "text": [
      "2022-05-07 01:52:32\t249Loss 0.2645 (0.3156)\tlr 0.0001953125\n"
     ]
    },
    {
     "name": "stderr",
     "output_type": "stream",
     "text": [
      "\n"
     ]
    }
   ],
   "source": [
    "#train_epoch(epoch_i, model, train_loader, criterion, optimizer, running_loss, train_scheduler, model_name = 'default_AE')\n",
    "\n",
    "from tqdm import tqdm\n",
    "rl = 0\n",
    "\n",
    "for i in range(0, 250):\n",
    "    rl = train_epoch(i, model, train_loader, criterion, optimizer, rl, train_scheduler, model_name = 'default_AE_mix3')\n",
    "#    test_epoch(model, train4val_loader, test_loader, L1_measure, cfg, log, i)"
   ]
  },
  {
   "cell_type": "code",
   "execution_count": null,
   "metadata": {},
   "outputs": [],
   "source": [
    "out = next(iter(train_val))\n",
    "#out.shape"
   ]
  },
  {
   "cell_type": "code",
   "execution_count": 27,
   "metadata": {},
   "outputs": [
    {
     "data": {
      "image/png": "[encoded data removed]",
      "text/plain": [
       "<Figure size 432x288 with 1 Axes>"
      ]
     },
     "metadata": {
      "needs_background": "light"
     },
     "output_type": "display_data"
    }
   ],
   "source": [
    "plt.imshow(out[0][20][0].detach().cpu().numpy(), cmap ='gray')\n",
    "plt.show()"
   ]
  },
  {
   "cell_type": "code",
   "execution_count": 28,
   "metadata": {},
   "outputs": [
    {
     "data": {
      "text/plain": [
       "<matplotlib.image.AxesImage at 0x20009f18f690>"
      ]
     },
     "execution_count": 28,
     "metadata": {},
     "output_type": "execute_result"
    },
    {
     "data": {
      "image/png": "[encoded data removed]",
      "text/plain": [
       "<Figure size 432x288 with 1 Axes>"
      ]
     },
     "metadata": {
      "needs_background": "light"
     },
     "output_type": "display_data"
    }
   ],
   "source": [
    "model = model.to(device)\n",
    "res = model(out[0].to(device))\n",
    "res.shape\n",
    "plt.imshow(res[20][0].detach().cpu().numpy(), cmap ='gray')\n",
    "#plt.show()"
   ]
  },
  {
   "cell_type": "code",
   "execution_count": 26,
   "metadata": {},
   "outputs": [],
   "source": [
    "model_name = 'default_AE'\n",
    "torch.save({'state_dict':model.state_dict()}, '/home/ryznerf/Computer_Vision/6.869_Computer_Vision_project/saved_classifiers/AutoEncoders/' + model_name)"
   ]
  },
  {
   "cell_type": "code",
   "execution_count": 22,
   "metadata": {},
   "outputs": [],
   "source": [
    "y = torch.load('/home/ryznerf/Computer_Vision/6.869_Computer_Vision_project/saved_classifiers/AutoEncoders/' + model_name)"
   ]
  },
  {
   "cell_type": "code",
   "execution_count": 11,
   "metadata": {},
   "outputs": [
    {
     "data": {
      "text/plain": [
       "<All keys matched successfully>"
      ]
     },
     "execution_count": 11,
     "metadata": {},
     "output_type": "execute_result"
    }
   ],
   "source": [
    "model_name = 'default_AE'\n",
    "model = Model(n_channels= 1, bilinear= True)\n",
    "checkpoint = torch.load('/home/ryznerf/Computer_Vision/6.869_Computer_Vision_project/saved_classifiers/AutoEncoders/' + model_name)\n",
    "model.load_state_dict(checkpoint['state_dict'])"
   ]
  },
  {
   "cell_type": "code",
   "execution_count": 11,
   "metadata": {},
   "outputs": [
    {
     "data": {
      "text/plain": [
       "0"
      ]
     },
     "execution_count": 11,
     "metadata": {},
     "output_type": "execute_result"
    }
   ],
   "source": [
    "rl"
   ]
  },
  {
   "cell_type": "code",
   "execution_count": null,
   "metadata": {},
   "outputs": [],
   "source": []
  }
 ],
 "metadata": {
  "kernelspec": {
   "display_name": "Python 3 PowerAI",
   "language": "python",
   "name": "python3"
  },
  "language_info": {
   "codemirror_mode": {
    "name": "ipython",
    "version": 3
   },
   "file_extension": ".py",
   "mimetype": "text/x-python",
   "name": "python",
   "nbconvert_exporter": "python",
   "pygments_lexer": "ipython3",
   "version": "3.7.6"
  }
 },
 "nbformat": 4,
 "nbformat_minor": 4
}
