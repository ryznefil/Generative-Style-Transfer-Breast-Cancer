{
 "cells": [
  {
   "cell_type": "code",
   "execution_count": 21,
   "metadata": {},
   "outputs": [],
   "source": [
    "import Style_transfer as st\n",
    "import torch\n",
    "import os\n",
    "import matplotlib.pyplot as plt\n",
    "import cv2\n",
    "import numpy as np\n",
    "import torch.nn as nn\n",
    "import pandas as pd\n",
    "\n",
    "\n",
    "import torch\n",
    "import torch.nn as nn\n",
    "import torch.optim as optim\n",
    "import numpy as np\n",
    "import torchvision\n",
    "from torchvision import datasets, models, transforms\n",
    "import matplotlib.pyplot as plt\n",
    "import time\n",
    "# You might not have tqdm, which gives you nice progress bars\n",
    "#!pip install tqdm\n",
    "import tqdm\n",
    "import os\n",
    "import copy\n",
    "import pandas as pd\n",
    "import PIL \n",
    "import seaborn as sns\n",
    "\n",
    "device = torch.device(\"cuda\" if torch.cuda.is_available() else \"cpu\")\n",
    "%config Completer.use_jedi = False"
   ]
  },
  {
   "cell_type": "code",
   "execution_count": 22,
   "metadata": {},
   "outputs": [],
   "source": [
    "def save_results_image(content_im, style_im, result_im, reconstruction, malign_probability, \n",
    "                       l1_score, rejected, tag_pair, save_location, content_weight = 1, iterations = 1):\n",
    "    f, axarr = plt.subplots(1, 4)\n",
    "    f.set_size_inches(18.5, 5)\n",
    "    axarr[0].imshow(content_im[0][0].detach().cpu().numpy(),cmap = 'gray')\n",
    "    axarr[0].set_title(\"Content Image\")\n",
    "    axarr[1].imshow(style_im[0][0].detach().cpu().numpy(),cmap = 'gray')\n",
    "    axarr[1].set_title(\"Style Image\")\n",
    "    axarr[2].imshow(result_im[0][0].detach().cpu().numpy(),cmap = 'gray')\n",
    "    axarr[2].set_title(\"Resulting Image\")\n",
    "    axarr[3].imshow(reconstruction[0][0].detach().cpu().numpy(), cmap = 'gray')\n",
    "    axarr[3].set_title(\"Reconstructed Image\")\n",
    "    plt.suptitle('Mal. prob:' + str(malign_probability) + '   L1 loss: ' + str(np.round(l1_score,3)) \n",
    "                 + '   Rejected: ' + str(rejected) + \n",
    "                 '\\nContent photo:' + tag_pair[0] + '   Style photo: ' + tag_pair[1] + \n",
    "                 '\\n Parameters = Iterations: ' + str(iterations) + '   Content weight: ' + str(content_weight),                                   \n",
    "                 fontsize = 12)\n",
    "    plt.savefig(save_location)\n",
    "    plt.show()"
   ]
  },
  {
   "cell_type": "code",
   "execution_count": 23,
   "metadata": {},
   "outputs": [],
   "source": [
    "from AnomalyDetector import Model, L1_measure\n",
    "from Style_transfer import image_loader, plot_image, load_image"
   ]
  },
  {
   "cell_type": "code",
   "execution_count": 24,
   "metadata": {},
   "outputs": [],
   "source": [
    "base_iterations = 250\n",
    "base_cnt_weight = 1\n",
    "iterations_up = [300, 350, 400, 450, 500]\n",
    "iterations_down = [200, 150, 100]\n",
    "content_weights = [1,5,10,100, 200, 500, 1000]\n",
    "\n",
    "# fixed test options\n",
    "# fixed_opt_w = [1, 5, 10, 5, 10, 250, 20]\n",
    "# fixed_opt_iter = [500, 250, 250, 400, 400, 250, 750]\n",
    "test_opt_iter = [5,10,25,50,100, 250, 500, 1000]"
   ]
  },
  {
   "cell_type": "code",
   "execution_count": 25,
   "metadata": {},
   "outputs": [],
   "source": [
    "# define the style transfer prerequisited\n",
    "st_class = st.StyleTransfer()\n",
    "base_malign_path = '/home/ryznerf/Computer_Vision/pytorch_data_input/test/malignant/'\n",
    "base_benign_path = '/home/ryznerf/Computer_Vision/pytorch_data_input/test/benign/'\n",
    "save_folder = '/home/ryznerf/Computer_Vision/6.869_Computer_Vision_project/results_3/'\n",
    "\n",
    "style = os.listdir(base_malign_path)\n",
    "content = os.listdir(base_benign_path)"
   ]
  },
  {
   "cell_type": "code",
   "execution_count": 26,
   "metadata": {},
   "outputs": [],
   "source": [
    "# define counts\n",
    "\n",
    "random_pairs_count = 50\n",
    "max_trials_per_pair = len(test_opt_iter)\n",
    "softmax_cutoff = 0.85\n",
    "\n",
    "# randomly select pairings\n",
    "np.random.seed(300)\n",
    "style_tags = np.random.choice(style, random_pairs_count)\n",
    "content_tags = np.random.choice(content, random_pairs_count)\n",
    "cont_style_pairs = list(zip(content_tags, style_tags))"
   ]
  },
  {
   "cell_type": "code",
   "execution_count": 27,
   "metadata": {},
   "outputs": [],
   "source": [
    "#load and define the anomaly detector\n",
    "model_name = 'default_AE_mix3'   # model name\n",
    "model = Model(n_channels= 1, bilinear= True) \n",
    "checkpoint = torch.load('/home/ryznerf/Computer_Vision/6.869_Computer_Vision_project/saved_classifiers/AutoEncoders/' + model_name) # save location\n",
    "model.load_state_dict(checkpoint['state_dict']) # load the state\n",
    "model = model.to(device) # put it to gpu\n",
    "\n",
    "# load the classifier\n",
    "classifier = torch.load('/home/ryznerf/Computer_Vision/6.869_Computer_Vision_project/saved_classifiers/model_full')\n",
    "classifier = classifier.to(device)"
   ]
  },
  {
   "cell_type": "code",
   "execution_count": 28,
   "metadata": {},
   "outputs": [],
   "source": [
    "# determine the normalization parameters\n",
    "def get_image_transforms():\n",
    "    transform = transforms.Compose([\n",
    "            transforms.Grayscale(num_output_channels=1),\n",
    "            transforms.ToTensor(),\n",
    "            transforms.Normalize([0.0858], [0.1819]),\n",
    "        ])\n",
    "    return transform\n",
    "\n",
    "base_loc = '/home/ryznerf/Computer_Vision/pytorch_data_input'\n",
    "len_total = len(os.listdir(base_loc + '/train/benign')) + len(os.listdir(base_loc + '/train/malignant'))\n",
    "#len(dataset)\n",
    "dataset = datasets.ImageFolder('/home/ryznerf/Computer_Vision/pytorch_data_input/train', transform = get_image_transforms())\n",
    "loader = torch.utils.data.DataLoader(dataset, batch_size= len(dataset), num_workers=4)"
   ]
  },
  {
   "cell_type": "code",
   "execution_count": 46,
   "metadata": {},
   "outputs": [],
   "source": [
    "data, labels = next(iter(loader))\n",
    "cnt = 0\n",
    "prob_mal = []\n",
    "prob_mal_correct = []\n",
    "prob_benign = []\n",
    "prob_benign_correct = []\n",
    "\n",
    "for i in range(len(data)):\n",
    "    softmax = nn.Softmax(dim=1)\n",
    "    res = np.round((softmax(classifier(torch.unsqueeze(data[i], dim=0).to(device))).detach().cpu().numpy()),3)\n",
    "    if labels[i] == 1:\n",
    "        res = np.round((softmax(classifier(torch.unsqueeze(data[i], dim=0).to(device))).detach().cpu().numpy()),3)\n",
    "        malign_probability = res[0][1]\n",
    "        prob_mal.append(malign_probability)\n",
    "        if malign_probability > 0.5:\n",
    "            prob_mal_correct.append(malign_probability)\n",
    "    else: \n",
    "        benign_probability = res[0][0]\n",
    "        prob_benign.append(benign_probability)\n",
    "        if benign_probability <= 0.5:\n",
    "            prob_benign_correct.append(benign_probability)"
   ]
  },
  {
   "cell_type": "code",
   "execution_count": 86,
   "metadata": {},
   "outputs": [
    {
     "data": {
      "text/plain": [
       "3186"
      ]
     },
     "execution_count": 86,
     "metadata": {},
     "output_type": "execute_result"
    }
   ],
   "source": [
    "len(prob_mal)"
   ]
  },
  {
   "cell_type": "code",
   "execution_count": 83,
   "metadata": {},
   "outputs": [
    {
     "data": {
      "image/png": "[encoded data removed]",
      "text/plain": [
       "<Figure size 432x288 with 1 Axes>"
      ]
     },
     "metadata": {
      "needs_background": "light"
     },
     "output_type": "display_data"
    }
   ],
   "source": [
    "#sns.distplot(prob_correct, stat=\"probability\")\n",
    "sns.distplot(prob_benign, color=\"b\", kde = False, label = 'benign softmax')\n",
    "plt.axvline(np.mean(prob_benign), color='blue', linestyle='dashed', linewidth=1.5, label = 'benign mean')\n",
    "plt.axvline(np.mean(prob_mal), color='red', linestyle='dashed', linewidth=1.5, label = 'malign mean')\n",
    "sns.distplot(prob_mal, color=\"r\", kde = False, label = 'malign softmax')\n",
    "plt.legend()\n",
    "plt.title('Test set distribution of softmax across classes')\n",
    "plt.savefig('class_dist_all.png')\n",
    "plt.show()"
   ]
  },
  {
   "cell_type": "code",
   "execution_count": 84,
   "metadata": {},
   "outputs": [
    {
     "data": {
      "image/png": "[encoded data removed]",
      "text/plain": [
       "<Figure size 432x288 with 1 Axes>"
      ]
     },
     "metadata": {
      "needs_background": "light"
     },
     "output_type": "display_data"
    }
   ],
   "source": [
    "sns.distplot(prob_benign_correct, color=\"b\", kde = False, label = 'benign softmax')\n",
    "plt.axvline(np.mean(prob_benign_correct), color='blue', linestyle='dashed', linewidth=1.5, label = 'benign mean')\n",
    "plt.axvline(np.mean(prob_mal_correct), color='red', linestyle='dashed', linewidth=1.5, label = 'malign mean')\n",
    "sns.distplot(prob_mal_correct, color=\"r\", kde = False, label = 'malign softmax')\n",
    "plt.legend()\n",
    "plt.title('Test set distribution of softmax across classes')\n",
    "plt.savefig('class_dist_selected.png')\n",
    "plt.show()"
   ]
  },
  {
   "cell_type": "code",
   "execution_count": 45,
   "metadata": {},
   "outputs": [
    {
     "data": {
      "text/plain": [
       "0.999"
      ]
     },
     "execution_count": 45,
     "metadata": {},
     "output_type": "execute_result"
    }
   ],
   "source": [
    "np.max(prob_mal_correct)"
   ]
  },
  {
   "cell_type": "code",
   "execution_count": 11,
   "metadata": {},
   "outputs": [
    {
     "data": {
      "text/plain": [
       "0.71185875"
      ]
     },
     "execution_count": 11,
     "metadata": {},
     "output_type": "execute_result"
    }
   ],
   "source": [
    "np.mean(prob)"
   ]
  },
  {
   "cell_type": "code",
   "execution_count": 12,
   "metadata": {},
   "outputs": [
    {
     "data": {
      "text/plain": [
       "0.75635463"
      ]
     },
     "execution_count": 12,
     "metadata": {},
     "output_type": "execute_result"
    }
   ],
   "source": [
    "np.mean(prob_correct)"
   ]
  },
  {
   "cell_type": "code",
   "execution_count": 67,
   "metadata": {},
   "outputs": [],
   "source": [
    "# determine the normalization parameters\n",
    "def get_image_transforms():\n",
    "    transform = transforms.Compose([\n",
    "            transforms.Grayscale(num_output_channels=1),\n",
    "            transforms.ToTensor(),\n",
    "            transforms.Normalize([0.0858], [0.1819]),\n",
    "        ])\n",
    "    return transform\n",
    "\n",
    "base_loc = '/home/ryznerf/Computer_Vision/pytorch_data_input'\n",
    "len_total = len(os.listdir(base_loc + '/train/benign')) + len(os.listdir(base_loc + '/train/malignant'))\n",
    "#\n",
    "dataset = datasets.ImageFolder('/home/ryznerf/Computer_Vision/pytorch_data_input/train', transform = get_image_transforms())\n",
    "loader = torch.utils.data.DataLoader(dataset, batch_size= len(dataset), num_workers=4)"
   ]
  },
  {
   "cell_type": "code",
   "execution_count": 68,
   "metadata": {},
   "outputs": [],
   "source": [
    "# determine the normalization parameters\n",
    "def get_image_transforms():\n",
    "    transform = transforms.Compose([\n",
    "            transforms.Grayscale(num_output_channels=1),\n",
    "            transforms.ToTensor(),\n",
    "            transforms.Normalize([0.0858], [0.1819]),\n",
    "        ])\n",
    "    return transform\n",
    "\n",
    "base_loc = '/home/ryznerf/Computer_Vision/pytorch_data_input'\n",
    "len_total = len(os.listdir(base_loc + '/test/benign')) + len(os.listdir(base_loc + '/test/malignant'))\n",
    "#\n",
    "dataset_test = datasets.ImageFolder('/home/ryznerf/Computer_Vision/pytorch_data_input/test', transform = get_image_transforms())\n",
    "loader_test = torch.utils.data.DataLoader(dataset_test, batch_size= len(dataset), num_workers=4)"
   ]
  },
  {
   "cell_type": "code",
   "execution_count": 69,
   "metadata": {},
   "outputs": [],
   "source": [
    "data, labels = next(iter(loader))\n",
    "dec_b_train = []\n",
    "dec_b_test = []\n",
    "\n",
    "for i in range(len(data)):      \n",
    "    reconstruction = model(torch.unsqueeze(data[i], dim=0).to(device))\n",
    "    l1_score = L1_measure(reconstruction, torch.unsqueeze(data[i], dim=0).to(device))\n",
    "    l1_score = l1_score.detach().cpu().numpy()[0]\n",
    "    dec_b_train.append(l1_score)\n",
    "    \n",
    "data, labels = next(iter(loader_test))\n",
    "for i in range(len(data)):      \n",
    "    reconstruction = model(torch.unsqueeze(data[i], dim=0).to(device))\n",
    "    l1_score = L1_measure(reconstruction, torch.unsqueeze(data[i], dim=0).to(device))\n",
    "    l1_score = l1_score.detach().cpu().numpy()[0]\n",
    "    dec_b_test.append(l1_score)"
   ]
  },
  {
   "cell_type": "code",
   "execution_count": 71,
   "metadata": {},
   "outputs": [
    {
     "data": {
      "text/plain": [
       "0.23686261"
      ]
     },
     "execution_count": 71,
     "metadata": {},
     "output_type": "execute_result"
    }
   ],
   "source": [
    "np.mean(dec_b_test)"
   ]
  },
  {
   "cell_type": "code",
   "execution_count": 74,
   "metadata": {},
   "outputs": [
    {
     "data": {
      "image/png": "[encoded data removed]",
      "text/plain": [
       "<Figure size 432x288 with 1 Axes>"
      ]
     },
     "metadata": {
      "needs_background": "light"
     },
     "output_type": "display_data"
    }
   ],
   "source": [
    "sns.distplot(dec_b_train, color=\"r\", kde = False)\n",
    "sns.distplot(dec_b_test, color=\"b\", kde = False)\n",
    "plt.show()"
   ]
  },
  {
   "cell_type": "code",
   "execution_count": 65,
   "metadata": {},
   "outputs": [
    {
     "data": {
      "text/plain": [
       "<matplotlib.axes._subplots.AxesSubplot at 0x2000b65c0a50>"
      ]
     },
     "execution_count": 65,
     "metadata": {},
     "output_type": "execute_result"
    },
    {
     "data": {
      "image/png": "[encoded data removed]",
      "text/plain": [
       "<Figure size 432x288 with 1 Axes>"
      ]
     },
     "metadata": {
      "needs_background": "light"
     },
     "output_type": "display_data"
    }
   ],
   "source": [
    "sns.distplot(dec_b_test)"
   ]
  },
  {
   "cell_type": "code",
   "execution_count": null,
   "metadata": {},
   "outputs": [],
   "source": []
  }
 ],
 "metadata": {
  "kernelspec": {
   "display_name": "Python 3 PowerAI",
   "language": "python",
   "name": "python3"
  },
  "language_info": {
   "codemirror_mode": {
    "name": "ipython",
    "version": 3
   },
   "file_extension": ".py",
   "mimetype": "text/x-python",
   "name": "python",
   "nbconvert_exporter": "python",
   "pygments_lexer": "ipython3",
   "version": "3.7.6"
  }
 },
 "nbformat": 4,
 "nbformat_minor": 4
}
